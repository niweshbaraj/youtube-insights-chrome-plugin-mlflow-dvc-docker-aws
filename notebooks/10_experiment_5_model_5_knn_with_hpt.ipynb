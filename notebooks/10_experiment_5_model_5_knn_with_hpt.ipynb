{
  "cells": [
    {
      "cell_type": "code",
      "execution_count": 1,
      "metadata": {
        "id": "Kw7oYTl0IZbv"
      },
      "outputs": [],
      "source": [
        "import mlflow"
      ]
    },
    {
      "cell_type": "code",
      "execution_count": 2,
      "metadata": {},
      "outputs": [],
      "source": [
        "# Set up the MLflow tracking server\n",
        "mlflow.set_tracking_uri(\"http://ec2-13-127-25-124.ap-south-1.compute.amazonaws.com:5000/\")"
      ]
    },
    {
      "cell_type": "code",
      "execution_count": 3,
      "metadata": {
        "colab": {
          "base_uri": "https://localhost:8080/"
        },
        "id": "Ugx9_tDfIiLo",
        "outputId": "71e7b70d-7650-4212-c962-b6376e24f277"
      },
      "outputs": [
        {
          "data": {
            "text/plain": [
              "<Experiment: artifact_location='s3://youtube-insights-chrome-plugin-mlflow-bucket/547399241317235994', creation_time=1750433363378, experiment_id='547399241317235994', last_update_time=1750433363378, lifecycle_stage='active', name='Exp 5 - ML Algos with HP Tuning', tags={}>"
            ]
          },
          "execution_count": 3,
          "metadata": {},
          "output_type": "execute_result"
        }
      ],
      "source": [
        "# Set or create an experiment\n",
        "mlflow.set_experiment(\"Exp 5 - ML Algos with HP Tuning\")"
      ]
    },
    {
      "cell_type": "code",
      "execution_count": 4,
      "metadata": {
        "id": "F9_HfxWfIkAj"
      },
      "outputs": [
        {
          "name": "stderr",
          "output_type": "stream",
          "text": [
            "c:\\ProgramData\\anaconda3\\envs\\yt-insights-ch-plugin\\Lib\\site-packages\\tqdm\\auto.py:21: TqdmWarning: IProgress not found. Please update jupyter and ipywidgets. See https://ipywidgets.readthedocs.io/en/stable/user_install.html\n",
            "  from .autonotebook import tqdm as notebook_tqdm\n"
          ]
        }
      ],
      "source": [
        "import pandas as pd\n",
        "from sklearn.feature_extraction.text import TfidfVectorizer\n",
        "from sklearn.model_selection import train_test_split\n",
        "from sklearn.neighbors import KNeighborsClassifier\n",
        "from sklearn.metrics import accuracy_score, classification_report\n",
        "from imblearn.over_sampling import SMOTE\n",
        "import mlflow\n",
        "import mlflow.sklearn\n",
        "import optuna"
      ]
    },
    {
      "cell_type": "code",
      "execution_count": 5,
      "metadata": {
        "colab": {
          "base_uri": "https://localhost:8080/"
        },
        "id": "im6XaJ6UI1cR",
        "outputId": "bb32e67d-d93e-49cb-f90e-4f7a2237c26d"
      },
      "outputs": [
        {
          "data": {
            "text/plain": [
              "(36662, 2)"
            ]
          },
          "execution_count": 5,
          "metadata": {},
          "output_type": "execute_result"
        }
      ],
      "source": [
        "df = pd.read_csv('reddit_preprocessing.csv').dropna(subset=['clean_comment'])\n",
        "df.shape"
      ]
    },
    {
      "cell_type": "code",
      "execution_count": 6,
      "metadata": {
        "colab": {
          "base_uri": "https://localhost:8080/"
        },
        "id": "zCvg5CqbI6o4",
        "outputId": "f33c073a-f1c5-4c17-ffc0-632fe0abfd72"
      },
      "outputs": [],
      "source": [
        "# Step 1: (Optional) Remapping - skipped since not strictly needed for KNN\n",
        "\n",
        "# Step 2: Remove rows where the target labels (category) are NaN\n",
        "df = df.dropna(subset=['category'])\n",
        "\n",
        "# Step 3: TF-IDF vectorizer setup\n",
        "ngram_range = (1, 3)  # Trigram\n",
        "max_features = 1000  # Set max_features to 1000\n",
        "vectorizer = TfidfVectorizer(ngram_range=ngram_range, max_features=max_features)\n",
        "X = vectorizer.fit_transform(df['clean_comment'])\n",
        "y = df['category']\n",
        "\n",
        "# Step 4: Apply SMOTE to handle class imbalance\n",
        "smote = SMOTE(random_state=42)\n",
        "X_resampled, y_resampled = smote.fit_resample(X, y)\n",
        "\n",
        "# Step 5: Train-test split\n",
        "X_train, X_test, y_train, y_test = train_test_split(X_resampled, y_resampled, test_size=0.2, random_state=42, stratify=y_resampled)\n"
      ]
    },
    {
      "cell_type": "code",
      "execution_count": 7,
      "metadata": {
        "id": "S71Y2_gfJA_H"
      },
      "outputs": [],
      "source": [
        "# Function to log results in MLflow\n",
        "def log_mlflow(model_name, model, X_train, X_test, y_train, y_test):\n",
        "    with mlflow.start_run():\n",
        "        # Log model type\n",
        "        mlflow.set_tag(\"mlflow.runName\", f\"{model_name}_SMOTE_TFIDF_Trigrams\")\n",
        "        mlflow.set_tag(\"experiment_type\", \"algorithm_comparison\")\n",
        "\n",
        "        # Log algorithm name as a parameter\n",
        "        mlflow.log_param(\"algo_name\", model_name)\n",
        "\n",
        "        # Train model\n",
        "        model.fit(X_train, y_train)\n",
        "        y_pred = model.predict(X_test)\n",
        "\n",
        "        # Log accuracy\n",
        "        accuracy = accuracy_score(y_test, y_pred)\n",
        "        mlflow.log_metric(\"accuracy\", accuracy)\n",
        "\n",
        "        # Log classification report\n",
        "        classification_rep = classification_report(y_test, y_pred, output_dict=True)\n",
        "        for label, metrics in classification_rep.items():\n",
        "            if isinstance(metrics, dict):\n",
        "                for metric, value in metrics.items():\n",
        "                    mlflow.log_metric(f\"{label}_{metric}\", value)\n",
        "\n",
        "        # Log the model\n",
        "        mlflow.sklearn.log_model(model, f\"{model_name}_model\")"
      ]
    },
    {
      "cell_type": "code",
      "execution_count": 8,
      "metadata": {},
      "outputs": [],
      "source": [
        "# Step 6: Optuna objective function for KNN\n",
        "def objective_knn(trial):\n",
        "    n_neighbors = trial.suggest_int('n_neighbors', 3, 30)  # Tuning the number of neighbors\n",
        "    p = trial.suggest_categorical('p', [1, 2])  # Tuning the distance metric (1 for Manhattan, 2 for Euclidean)\n",
        "\n",
        "    # KNeighborsClassifier setup\n",
        "    model = KNeighborsClassifier(n_neighbors=n_neighbors, p=p)\n",
        "    return accuracy_score(y_test, model.fit(X_train, y_train).predict(X_test))"
      ]
    },
    {
      "cell_type": "code",
      "execution_count": 9,
      "metadata": {},
      "outputs": [],
      "source": [
        "# Step 7: Run Optuna for KNN, log the best model only\n",
        "def run_optuna_experiment():\n",
        "    study = optuna.create_study(direction=\"maximize\")\n",
        "    study.optimize(objective_knn, n_trials=30)\n",
        "\n",
        "    # Get the best parameters and log only the best model\n",
        "    best_params = study.best_params\n",
        "    best_model = KNeighborsClassifier(n_neighbors=best_params['n_neighbors'], p=best_params['p'])\n",
        "\n",
        "    # Log the best model with MLflow, passing the algo_name as \"KNN\"\n",
        "    log_mlflow(\"KNN\", best_model, X_train, X_test, y_train, y_test)"
      ]
    },
    {
      "cell_type": "code",
      "execution_count": 10,
      "metadata": {},
      "outputs": [
        {
          "name": "stderr",
          "output_type": "stream",
          "text": [
            "[I 2025-06-20 21:25:32,771] A new study created in memory with name: no-name-3f93485c-8ecc-48f8-8eeb-b8e21ddd3582\n",
            "[I 2025-06-20 21:25:43,529] Trial 0 finished with value: 0.5310716550412174 and parameters: {'n_neighbors': 26, 'p': 2}. Best is trial 0 with value: 0.5310716550412174.\n",
            "[I 2025-06-20 21:25:54,613] Trial 1 finished with value: 0.557281758613401 and parameters: {'n_neighbors': 15, 'p': 2}. Best is trial 1 with value: 0.557281758613401.\n",
            "[I 2025-06-20 21:26:05,367] Trial 2 finished with value: 0.5242020714436694 and parameters: {'n_neighbors': 29, 'p': 2}. Best is trial 1 with value: 0.557281758613401.\n",
            "[I 2025-06-20 21:26:16,294] Trial 3 finished with value: 0.5619319382794336 and parameters: {'n_neighbors': 12, 'p': 2}. Best is trial 3 with value: 0.5619319382794336.\n",
            "[I 2025-06-20 21:26:27,038] Trial 4 finished with value: 0.5419573028957937 and parameters: {'n_neighbors': 20, 'p': 2}. Best is trial 3 with value: 0.5619319382794336.\n",
            "[I 2025-06-20 21:26:30,134] Trial 5 finished with value: 0.4108010991333756 and parameters: {'n_neighbors': 4, 'p': 1}. Best is trial 3 with value: 0.5619319382794336.\n",
            "[I 2025-06-20 21:26:33,216] Trial 6 finished with value: 0.3916719509617417 and parameters: {'n_neighbors': 9, 'p': 1}. Best is trial 3 with value: 0.5619319382794336.\n",
            "[I 2025-06-20 21:26:36,302] Trial 7 finished with value: 0.3792010145846544 and parameters: {'n_neighbors': 23, 'p': 1}. Best is trial 3 with value: 0.5619319382794336.\n",
            "[I 2025-06-20 21:26:46,883] Trial 8 finished with value: 0.5440710209258085 and parameters: {'n_neighbors': 19, 'p': 2}. Best is trial 3 with value: 0.5619319382794336.\n",
            "[I 2025-06-20 21:26:49,867] Trial 9 finished with value: 0.3916719509617417 and parameters: {'n_neighbors': 9, 'p': 1}. Best is trial 3 with value: 0.5619319382794336.\n",
            "[I 2025-06-20 21:27:00,549] Trial 10 finished with value: 0.5583386176284084 and parameters: {'n_neighbors': 14, 'p': 2}. Best is trial 3 with value: 0.5619319382794336.\n",
            "[I 2025-06-20 21:27:11,536] Trial 11 finished with value: 0.5600295920524202 and parameters: {'n_neighbors': 13, 'p': 2}. Best is trial 3 with value: 0.5619319382794336.\n",
            "[I 2025-06-20 21:27:22,684] Trial 12 finished with value: 0.5634115409004439 and parameters: {'n_neighbors': 11, 'p': 2}. Best is trial 12 with value: 0.5634115409004439.\n",
            "[I 2025-06-20 21:27:35,840] Trial 13 finished with value: 0.5723948425280068 and parameters: {'n_neighbors': 9, 'p': 2}. Best is trial 13 with value: 0.5723948425280068.\n",
            "[I 2025-06-20 21:27:47,010] Trial 14 finished with value: 0.5909955611921369 and parameters: {'n_neighbors': 3, 'p': 2}. Best is trial 14 with value: 0.5909955611921369.\n",
            "[I 2025-06-20 21:27:57,415] Trial 15 finished with value: 0.5814838300570704 and parameters: {'n_neighbors': 4, 'p': 2}. Best is trial 14 with value: 0.5909955611921369.\n",
            "[I 2025-06-20 21:28:08,377] Trial 16 finished with value: 0.5909955611921369 and parameters: {'n_neighbors': 3, 'p': 2}. Best is trial 14 with value: 0.5909955611921369.\n",
            "[I 2025-06-20 21:28:19,213] Trial 17 finished with value: 0.5909955611921369 and parameters: {'n_neighbors': 3, 'p': 2}. Best is trial 14 with value: 0.5909955611921369.\n",
            "[I 2025-06-20 21:28:22,154] Trial 18 finished with value: 0.39611075882477276 and parameters: {'n_neighbors': 6, 'p': 1}. Best is trial 14 with value: 0.5909955611921369.\n",
            "[I 2025-06-20 21:28:33,357] Trial 19 finished with value: 0.5753540477700275 and parameters: {'n_neighbors': 7, 'p': 2}. Best is trial 14 with value: 0.5909955611921369.\n",
            "[I 2025-06-20 21:28:44,608] Trial 20 finished with value: 0.5497780596068484 and parameters: {'n_neighbors': 17, 'p': 2}. Best is trial 14 with value: 0.5909955611921369.\n",
            "[I 2025-06-20 21:28:55,538] Trial 21 finished with value: 0.5909955611921369 and parameters: {'n_neighbors': 3, 'p': 2}. Best is trial 14 with value: 0.5909955611921369.\n",
            "[I 2025-06-20 21:29:06,693] Trial 22 finished with value: 0.5738744451490171 and parameters: {'n_neighbors': 6, 'p': 2}. Best is trial 14 with value: 0.5909955611921369.\n",
            "[I 2025-06-20 21:29:17,994] Trial 23 finished with value: 0.5909955611921369 and parameters: {'n_neighbors': 3, 'p': 2}. Best is trial 14 with value: 0.5909955611921369.\n",
            "[I 2025-06-20 21:29:28,946] Trial 24 finished with value: 0.5738744451490171 and parameters: {'n_neighbors': 6, 'p': 2}. Best is trial 14 with value: 0.5909955611921369.\n",
            "[I 2025-06-20 21:29:40,132] Trial 25 finished with value: 0.5740858169520185 and parameters: {'n_neighbors': 8, 'p': 2}. Best is trial 14 with value: 0.5909955611921369.\n",
            "[I 2025-06-20 21:29:43,229] Trial 26 finished with value: 0.39822447685478757 and parameters: {'n_neighbors': 5, 'p': 1}. Best is trial 14 with value: 0.5909955611921369.\n",
            "[I 2025-06-20 21:29:54,263] Trial 27 finished with value: 0.5634115409004439 and parameters: {'n_neighbors': 11, 'p': 2}. Best is trial 14 with value: 0.5909955611921369.\n",
            "[I 2025-06-20 21:30:04,732] Trial 28 finished with value: 0.5909955611921369 and parameters: {'n_neighbors': 3, 'p': 2}. Best is trial 14 with value: 0.5909955611921369.\n",
            "[I 2025-06-20 21:30:15,674] Trial 29 finished with value: 0.5753540477700275 and parameters: {'n_neighbors': 7, 'p': 2}. Best is trial 14 with value: 0.5909955611921369.\n",
            "2025/06/20 21:30:42 WARNING mlflow.models.model: Model logged without a signature and input example. Please set `input_example` parameter when logging the model to auto infer the model signature.\n",
            "2025/06/20 21:30:48 INFO mlflow.tracking._tracking_service.client: 🏃 View run KNN_SMOTE_TFIDF_Trigrams at: http://ec2-13-127-25-124.ap-south-1.compute.amazonaws.com:5000/#/experiments/547399241317235994/runs/176035f692444c10bf9916ef9a138f7d.\n",
            "2025/06/20 21:30:48 INFO mlflow.tracking._tracking_service.client: 🧪 View experiment at: http://ec2-13-127-25-124.ap-south-1.compute.amazonaws.com:5000/#/experiments/547399241317235994.\n"
          ]
        }
      ],
      "source": [
        "# Run the experiment for KNN\n",
        "run_optuna_experiment()"
      ]
    }
  ],
  "metadata": {
    "colab": {
      "provenance": []
    },
    "kernelspec": {
      "display_name": "yt-insights-ch-plugin",
      "language": "python",
      "name": "python3"
    },
    "language_info": {
      "codemirror_mode": {
        "name": "ipython",
        "version": 3
      },
      "file_extension": ".py",
      "mimetype": "text/x-python",
      "name": "python",
      "nbconvert_exporter": "python",
      "pygments_lexer": "ipython3",
      "version": "3.11.13"
    }
  },
  "nbformat": 4,
  "nbformat_minor": 0
}
