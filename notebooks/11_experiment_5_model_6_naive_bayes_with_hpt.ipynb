{
  "cells": [
    {
      "cell_type": "code",
      "execution_count": 1,
      "metadata": {
        "id": "FitSe4YqLphs"
      },
      "outputs": [],
      "source": [
        "import mlflow"
      ]
    },
    {
      "cell_type": "code",
      "execution_count": 2,
      "metadata": {},
      "outputs": [],
      "source": [
        "# Set up the MLflow tracking server\n",
        "mlflow.set_tracking_uri(\"http://ec2-13-127-25-124.ap-south-1.compute.amazonaws.com:5000/\")"
      ]
    },
    {
      "cell_type": "code",
      "execution_count": 3,
      "metadata": {
        "colab": {
          "base_uri": "https://localhost:8080/"
        },
        "id": "hTA0BVtYL1h8",
        "outputId": "3c064ce9-1686-4fe7-f4c5-c3ff76d1d828"
      },
      "outputs": [
        {
          "data": {
            "text/plain": [
              "<Experiment: artifact_location='s3://youtube-insights-chrome-plugin-mlflow-bucket/547399241317235994', creation_time=1750433363378, experiment_id='547399241317235994', last_update_time=1750433363378, lifecycle_stage='active', name='Exp 5 - ML Algos with HP Tuning', tags={}>"
            ]
          },
          "execution_count": 3,
          "metadata": {},
          "output_type": "execute_result"
        }
      ],
      "source": [
        "# Set or create an experiment\n",
        "mlflow.set_experiment(\"Exp 5 - ML Algos with HP Tuning\")"
      ]
    },
    {
      "cell_type": "code",
      "execution_count": 4,
      "metadata": {
        "id": "yePqZe37L3yf"
      },
      "outputs": [
        {
          "name": "stderr",
          "output_type": "stream",
          "text": [
            "c:\\ProgramData\\anaconda3\\envs\\yt-insights-ch-plugin\\Lib\\site-packages\\tqdm\\auto.py:21: TqdmWarning: IProgress not found. Please update jupyter and ipywidgets. See https://ipywidgets.readthedocs.io/en/stable/user_install.html\n",
            "  from .autonotebook import tqdm as notebook_tqdm\n"
          ]
        }
      ],
      "source": [
        "import pandas as pd\n",
        "from sklearn.feature_extraction.text import TfidfVectorizer\n",
        "from sklearn.model_selection import train_test_split\n",
        "from sklearn.naive_bayes import MultinomialNB\n",
        "from sklearn.metrics import accuracy_score, classification_report\n",
        "from imblearn.over_sampling import SMOTE\n",
        "import mlflow\n",
        "import mlflow.sklearn\n",
        "import optuna"
      ]
    },
    {
      "cell_type": "code",
      "execution_count": 5,
      "metadata": {
        "colab": {
          "base_uri": "https://localhost:8080/"
        },
        "id": "Vf3mf2bjMGjf",
        "outputId": "ab993e9e-7f58-45a6-e4ad-9bb13d28230a"
      },
      "outputs": [
        {
          "data": {
            "text/plain": [
              "(36662, 2)"
            ]
          },
          "execution_count": 5,
          "metadata": {},
          "output_type": "execute_result"
        }
      ],
      "source": [
        "df = pd.read_csv('reddit_preprocessing.csv').dropna(subset=['clean_comment'])\n",
        "df.shape"
      ]
    },
    {
      "cell_type": "code",
      "execution_count": 6,
      "metadata": {
        "colab": {
          "base_uri": "https://localhost:8080/"
        },
        "id": "xhwie-MyMNNw",
        "outputId": "df8d178f-9922-4657-e844-d99b2dfa2c81"
      },
      "outputs": [],
      "source": [
        "# Step 1: (Optional) Remapping - skipped since not strictly needed for Multinomial Naive Bayes\n",
        "\n",
        "# Step 2: Remove rows where the target labels (category) are NaN\n",
        "df = df.dropna(subset=['category'])\n",
        "\n",
        "# Step 3: TF-IDF vectorizer setup\n",
        "ngram_range = (1, 3)  # Trigram\n",
        "max_features = 1000  # Set max_features to 1000\n",
        "vectorizer = TfidfVectorizer(ngram_range=ngram_range, max_features=max_features)\n",
        "X = vectorizer.fit_transform(df['clean_comment'])\n",
        "y = df['category']\n",
        "\n",
        "# Step 4: Apply SMOTE to handle class imbalance\n",
        "smote = SMOTE(random_state=42)\n",
        "X_resampled, y_resampled = smote.fit_resample(X, y)\n",
        "\n",
        "# Step 5: Train-test split\n",
        "X_train, X_test, y_train, y_test = train_test_split(X_resampled, y_resampled, test_size=0.2, random_state=42, stratify=y_resampled)"
      ]
    },
    {
      "cell_type": "code",
      "execution_count": 9,
      "metadata": {
        "id": "9_X8KbpdMQaS"
      },
      "outputs": [],
      "source": [
        "# Function to log results in MLflow\n",
        "def log_mlflow(model_name, model, X_train, X_test, y_train, y_test):\n",
        "    with mlflow.start_run():\n",
        "        # Log model type\n",
        "        mlflow.set_tag(\"mlflow.runName\", f\"{model_name}_SMOTE_TFIDF_Trigrams\")\n",
        "        mlflow.set_tag(\"experiment_type\", \"algorithm_comparison\")\n",
        "\n",
        "        # Log algorithm name as a parameter\n",
        "        mlflow.log_param(\"algo_name\", model_name)\n",
        "\n",
        "        # Train model\n",
        "        model.fit(X_train, y_train)\n",
        "        y_pred = model.predict(X_test)\n",
        "\n",
        "        # Log accuracy\n",
        "        accuracy = accuracy_score(y_test, y_pred)\n",
        "        mlflow.log_metric(\"accuracy\", accuracy)\n",
        "\n",
        "        # Log classification report\n",
        "        classification_rep = classification_report(y_test, y_pred, output_dict=True)\n",
        "        for label, metrics in classification_rep.items():\n",
        "            if isinstance(metrics, dict):\n",
        "                for metric, value in metrics.items():\n",
        "                    mlflow.log_metric(f\"{label}_{metric}\", value)\n",
        "\n",
        "        # Log the model\n",
        "        mlflow.sklearn.log_model(model, f\"{model_name}_model\")"
      ]
    },
    {
      "cell_type": "code",
      "execution_count": 10,
      "metadata": {},
      "outputs": [],
      "source": [
        "# Step 6: Optuna objective function for Multinomial Naive Bayes\n",
        "def objective_mnb(trial):\n",
        "    alpha = trial.suggest_float('alpha', 1e-4, 1.0, log=True)  # Tuning the smoothing parameter\n",
        "\n",
        "    # MultinomialNB model setup\n",
        "    model = MultinomialNB(alpha=alpha)\n",
        "    return accuracy_score(y_test, model.fit(X_train, y_train).predict(X_test))\n"
      ]
    },
    {
      "cell_type": "code",
      "execution_count": 11,
      "metadata": {},
      "outputs": [],
      "source": [
        "# Step 7: Run Optuna for Multinomial Naive Bayes, log the best model only\n",
        "def run_optuna_experiment():\n",
        "    study = optuna.create_study(direction=\"maximize\")\n",
        "    study.optimize(objective_mnb, n_trials=30)\n",
        "\n",
        "    # Get the best parameters and log only the best model\n",
        "    best_params = study.best_params\n",
        "    best_model = MultinomialNB(alpha=best_params['alpha'])\n",
        "\n",
        "    # Log the best model with MLflow, passing the algo_name as \"MultinomialNB\"\n",
        "    log_mlflow(\"MultinomialNB\", best_model, X_train, X_test, y_train, y_test)"
      ]
    },
    {
      "cell_type": "code",
      "execution_count": 12,
      "metadata": {},
      "outputs": [
        {
          "name": "stderr",
          "output_type": "stream",
          "text": [
            "[I 2025-06-20 21:28:45,906] A new study created in memory with name: no-name-839457b7-689b-450c-b3e3-68af511ec729\n",
            "[I 2025-06-20 21:28:45,927] Trial 0 finished with value: 0.6666666666666666 and parameters: {'alpha': 0.17032006608838218}. Best is trial 0 with value: 0.6666666666666666.\n",
            "[I 2025-06-20 21:28:45,937] Trial 1 finished with value: 0.6679348974846755 and parameters: {'alpha': 0.04949086255506526}. Best is trial 1 with value: 0.6679348974846755.\n",
            "[I 2025-06-20 21:28:45,946] Trial 2 finished with value: 0.6683576410906785 and parameters: {'alpha': 0.0015404721259301122}. Best is trial 2 with value: 0.6683576410906785.\n",
            "[I 2025-06-20 21:28:45,954] Trial 3 finished with value: 0.6679348974846755 and parameters: {'alpha': 0.053374491476009804}. Best is trial 2 with value: 0.6683576410906785.\n",
            "[I 2025-06-20 21:28:45,962] Trial 4 finished with value: 0.6682519551891778 and parameters: {'alpha': 0.00040258238426604787}. Best is trial 2 with value: 0.6683576410906785.\n",
            "[I 2025-06-20 21:28:46,003] Trial 5 finished with value: 0.6679348974846755 and parameters: {'alpha': 0.06664925781659509}. Best is trial 2 with value: 0.6683576410906785.\n",
            "[I 2025-06-20 21:28:46,013] Trial 6 finished with value: 0.6663496089621644 and parameters: {'alpha': 0.24712988990876708}. Best is trial 2 with value: 0.6683576410906785.\n",
            "[I 2025-06-20 21:28:46,022] Trial 7 finished with value: 0.6683576410906785 and parameters: {'alpha': 0.00544456445702473}. Best is trial 2 with value: 0.6683576410906785.\n",
            "[I 2025-06-20 21:28:46,039] Trial 8 finished with value: 0.6682519551891778 and parameters: {'alpha': 0.01558813080738203}. Best is trial 2 with value: 0.6683576410906785.\n",
            "[I 2025-06-20 21:28:46,051] Trial 9 finished with value: 0.6675121538786726 and parameters: {'alpha': 0.09330453089368498}. Best is trial 2 with value: 0.6683576410906785.\n",
            "[I 2025-06-20 21:28:46,077] Trial 10 finished with value: 0.6682519551891778 and parameters: {'alpha': 0.00010177155186070847}. Best is trial 2 with value: 0.6683576410906785.\n",
            "[I 2025-06-20 21:28:46,094] Trial 11 finished with value: 0.6684633269921793 and parameters: {'alpha': 0.0019831459692155593}. Best is trial 11 with value: 0.6684633269921793.\n",
            "[I 2025-06-20 21:28:46,113] Trial 12 finished with value: 0.6684633269921793 and parameters: {'alpha': 0.0022346612608833043}. Best is trial 11 with value: 0.6684633269921793.\n",
            "[I 2025-06-20 21:28:46,142] Trial 13 finished with value: 0.6683576410906785 and parameters: {'alpha': 0.0018333474308401651}. Best is trial 11 with value: 0.6684633269921793.\n",
            "[I 2025-06-20 21:28:46,156] Trial 14 finished with value: 0.6683576410906785 and parameters: {'alpha': 0.0010938408911803552}. Best is trial 11 with value: 0.6684633269921793.\n",
            "[I 2025-06-20 21:28:46,190] Trial 15 finished with value: 0.6682519551891778 and parameters: {'alpha': 0.008284403441258904}. Best is trial 11 with value: 0.6684633269921793.\n",
            "[I 2025-06-20 21:28:46,207] Trial 16 finished with value: 0.6682519551891778 and parameters: {'alpha': 0.00027890271528122713}. Best is trial 11 with value: 0.6684633269921793.\n",
            "[I 2025-06-20 21:28:46,223] Trial 17 finished with value: 0.6683576410906785 and parameters: {'alpha': 0.004941154094475028}. Best is trial 11 with value: 0.6684633269921793.\n",
            "[I 2025-06-20 21:28:46,260] Trial 18 finished with value: 0.6682519551891778 and parameters: {'alpha': 0.02308270220486527}. Best is trial 11 with value: 0.6684633269921793.\n",
            "[I 2025-06-20 21:28:46,284] Trial 19 finished with value: 0.665292749947157 and parameters: {'alpha': 0.7038035064977409}. Best is trial 11 with value: 0.6684633269921793.\n",
            "[I 2025-06-20 21:28:46,315] Trial 20 finished with value: 0.6684633269921793 and parameters: {'alpha': 0.0027938779600062648}. Best is trial 11 with value: 0.6684633269921793.\n",
            "[I 2025-06-20 21:28:46,341] Trial 21 finished with value: 0.6684633269921793 and parameters: {'alpha': 0.002395581046235513}. Best is trial 11 with value: 0.6684633269921793.\n",
            "[I 2025-06-20 21:28:46,366] Trial 22 finished with value: 0.6682519551891778 and parameters: {'alpha': 0.0006663737237929034}. Best is trial 11 with value: 0.6684633269921793.\n",
            "[I 2025-06-20 21:28:46,401] Trial 23 finished with value: 0.6684633269921793 and parameters: {'alpha': 0.003092649338866937}. Best is trial 11 with value: 0.6684633269921793.\n",
            "[I 2025-06-20 21:28:46,428] Trial 24 finished with value: 0.6682519551891778 and parameters: {'alpha': 0.000883887691148323}. Best is trial 11 with value: 0.6684633269921793.\n",
            "[I 2025-06-20 21:28:46,462] Trial 25 finished with value: 0.6682519551891778 and parameters: {'alpha': 0.0003027349920233131}. Best is trial 11 with value: 0.6684633269921793.\n",
            "[I 2025-06-20 21:28:46,486] Trial 26 finished with value: 0.6683576410906785 and parameters: {'alpha': 0.003706142244925815}. Best is trial 11 with value: 0.6684633269921793.\n",
            "[I 2025-06-20 21:28:46,508] Trial 27 finished with value: 0.6682519551891778 and parameters: {'alpha': 0.010628879148847267}. Best is trial 11 with value: 0.6684633269921793.\n",
            "[I 2025-06-20 21:28:46,556] Trial 28 finished with value: 0.6682519551891778 and parameters: {'alpha': 0.00010755309595054275}. Best is trial 11 with value: 0.6684633269921793.\n",
            "[I 2025-06-20 21:28:46,590] Trial 29 finished with value: 0.6681462692876771 and parameters: {'alpha': 0.02442845040446765}. Best is trial 11 with value: 0.6684633269921793.\n",
            "2025/06/20 21:29:01 WARNING mlflow.models.model: Model logged without a signature and input example. Please set `input_example` parameter when logging the model to auto infer the model signature.\n",
            "2025/06/20 21:29:04 INFO mlflow.tracking._tracking_service.client: 🏃 View run MultinomialNB_SMOTE_TFIDF_Trigrams at: http://ec2-13-127-25-124.ap-south-1.compute.amazonaws.com:5000/#/experiments/547399241317235994/runs/6f935b227d424f69b129b54f03f6d846.\n",
            "2025/06/20 21:29:04 INFO mlflow.tracking._tracking_service.client: 🧪 View experiment at: http://ec2-13-127-25-124.ap-south-1.compute.amazonaws.com:5000/#/experiments/547399241317235994.\n"
          ]
        }
      ],
      "source": [
        "# Run the experiment for Multinomial Naive Bayes\n",
        "run_optuna_experiment()"
      ]
    }
  ],
  "metadata": {
    "colab": {
      "provenance": []
    },
    "kernelspec": {
      "display_name": "yt-insights-ch-plugin",
      "language": "python",
      "name": "python3"
    },
    "language_info": {
      "codemirror_mode": {
        "name": "ipython",
        "version": 3
      },
      "file_extension": ".py",
      "mimetype": "text/x-python",
      "name": "python",
      "nbconvert_exporter": "python",
      "pygments_lexer": "ipython3",
      "version": "3.11.13"
    }
  },
  "nbformat": 4,
  "nbformat_minor": 0
}
