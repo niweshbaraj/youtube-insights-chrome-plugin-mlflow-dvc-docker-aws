{
  "cells": [
    {
      "cell_type": "code",
      "execution_count": 1,
      "metadata": {
        "id": "IZ-BK2TaNIbe"
      },
      "outputs": [],
      "source": [
        "import mlflow"
      ]
    },
    {
      "cell_type": "code",
      "execution_count": 2,
      "metadata": {},
      "outputs": [],
      "source": [
        "# Set up the MLflow tracking server\n",
        "mlflow.set_tracking_uri(\"http://ec2-13-127-25-124.ap-south-1.compute.amazonaws.com:5000/\")"
      ]
    },
    {
      "cell_type": "code",
      "execution_count": 3,
      "metadata": {
        "colab": {
          "base_uri": "https://localhost:8080/"
        },
        "id": "fFQmSXn-NRSd",
        "outputId": "0501efcb-2189-4434-b271-548d1bbcda4d"
      },
      "outputs": [
        {
          "data": {
            "text/plain": [
              "<Experiment: artifact_location='s3://youtube-insights-chrome-plugin-mlflow-bucket/547399241317235994', creation_time=1750433363378, experiment_id='547399241317235994', last_update_time=1750433363378, lifecycle_stage='active', name='Exp 5 - ML Algos with HP Tuning', tags={}>"
            ]
          },
          "execution_count": 3,
          "metadata": {},
          "output_type": "execute_result"
        }
      ],
      "source": [
        "# Set or create an experiment\n",
        "mlflow.set_experiment(\"Exp 5 - ML Algos with HP Tuning\")"
      ]
    },
    {
      "cell_type": "code",
      "execution_count": 4,
      "metadata": {
        "id": "4uuO21DuNTpB"
      },
      "outputs": [
        {
          "name": "stderr",
          "output_type": "stream",
          "text": [
            "c:\\ProgramData\\anaconda3\\envs\\yt-insights-ch-plugin\\Lib\\site-packages\\tqdm\\auto.py:21: TqdmWarning: IProgress not found. Please update jupyter and ipywidgets. See https://ipywidgets.readthedocs.io/en/stable/user_install.html\n",
            "  from .autonotebook import tqdm as notebook_tqdm\n"
          ]
        }
      ],
      "source": [
        "import pandas as pd\n",
        "from sklearn.feature_extraction.text import TfidfVectorizer\n",
        "from sklearn.model_selection import train_test_split\n",
        "from sklearn.ensemble import RandomForestClassifier\n",
        "from sklearn.metrics import accuracy_score, classification_report\n",
        "from imblearn.over_sampling import SMOTE\n",
        "import mlflow\n",
        "import mlflow.sklearn\n",
        "import optuna"
      ]
    },
    {
      "cell_type": "code",
      "execution_count": 5,
      "metadata": {
        "colab": {
          "base_uri": "https://localhost:8080/"
        },
        "id": "-5y38KliNmzU",
        "outputId": "2be847c9-14a8-4406-8547-c85fc34f650c"
      },
      "outputs": [
        {
          "data": {
            "text/plain": [
              "(36662, 2)"
            ]
          },
          "execution_count": 5,
          "metadata": {},
          "output_type": "execute_result"
        }
      ],
      "source": [
        "df = pd.read_csv('reddit_preprocessing.csv').dropna(subset=['clean_comment'])\n",
        "df.shape"
      ]
    },
    {
      "cell_type": "code",
      "execution_count": 6,
      "metadata": {
        "colab": {
          "base_uri": "https://localhost:8080/"
        },
        "id": "dZxnJ1FWNtuL",
        "outputId": "abf3cf85-c371-483c-9107-97f75621cb89"
      },
      "outputs": [],
      "source": [
        "# Step 1: (Optional) Remapping - skipped since not strictly needed for Random Forest\n",
        "\n",
        "# Step 2: Remove rows where the target labels (category) are NaN\n",
        "df = df.dropna(subset=['category'])\n",
        "\n",
        "# Step 3: TF-IDF vectorizer setup\n",
        "ngram_range = (1, 3)  # Trigram\n",
        "max_features = 1000  # Set max_features to 1000\n",
        "vectorizer = TfidfVectorizer(ngram_range=ngram_range, max_features=max_features)\n",
        "X = vectorizer.fit_transform(df['clean_comment'])\n",
        "y = df['category']\n",
        "\n",
        "# Step 4: Apply SMOTE to handle class imbalance\n",
        "smote = SMOTE(random_state=42)\n",
        "X_resampled, y_resampled = smote.fit_resample(X, y)\n",
        "\n",
        "# Step 5: Train-test split\n",
        "X_train, X_test, y_train, y_test = train_test_split(X_resampled, y_resampled, test_size=0.2, random_state=42, stratify=y_resampled)"
      ]
    },
    {
      "cell_type": "code",
      "execution_count": 7,
      "metadata": {
        "id": "R2i90uhJNxuk"
      },
      "outputs": [],
      "source": [
        "# Function to log results in MLflow\n",
        "def log_mlflow(model_name, model, X_train, X_test, y_train, y_test):\n",
        "    with mlflow.start_run():\n",
        "        # Log model type\n",
        "        mlflow.set_tag(\"mlflow.runName\", f\"{model_name}_SMOTE_TFIDF_Trigrams\")\n",
        "        mlflow.set_tag(\"experiment_type\", \"algorithm_comparison\")\n",
        "\n",
        "        # Log algorithm name as a parameter\n",
        "        mlflow.log_param(\"algo_name\", model_name)\n",
        "\n",
        "        # Train model\n",
        "        model.fit(X_train, y_train)\n",
        "        y_pred = model.predict(X_test)\n",
        "\n",
        "        # Log accuracy\n",
        "        accuracy = accuracy_score(y_test, y_pred)\n",
        "        mlflow.log_metric(\"accuracy\", accuracy)\n",
        "\n",
        "        # Log classification report\n",
        "        classification_rep = classification_report(y_test, y_pred, output_dict=True)\n",
        "        for label, metrics in classification_rep.items():\n",
        "            if isinstance(metrics, dict):\n",
        "                for metric, value in metrics.items():\n",
        "                    mlflow.log_metric(f\"{label}_{metric}\", value)\n",
        "\n",
        "        # Log the model\n",
        "        mlflow.sklearn.log_model(model, f\"{model_name}_model\")"
      ]
    },
    {
      "cell_type": "code",
      "execution_count": 8,
      "metadata": {},
      "outputs": [],
      "source": [
        "# Step 6: Optuna objective function for Random Forest\n",
        "def objective_rf(trial):\n",
        "    n_estimators = trial.suggest_int('n_estimators', 50, 300)  # Number of trees in the forest\n",
        "    max_depth = trial.suggest_int('max_depth', 3, 20)  # Maximum depth of the tree\n",
        "    min_samples_split = trial.suggest_int('min_samples_split', 2, 20)  # Minimum samples required to split a node\n",
        "    min_samples_leaf = trial.suggest_int('min_samples_leaf', 1, 20)  # Minimum samples required at a leaf node\n",
        "\n",
        "    # RandomForestClassifier setup\n",
        "    model = RandomForestClassifier(n_estimators=n_estimators, max_depth=max_depth,\n",
        "                                   min_samples_split=min_samples_split, min_samples_leaf=min_samples_leaf,\n",
        "                                   random_state=42)\n",
        "    return accuracy_score(y_test, model.fit(X_train, y_train).predict(X_test))"
      ]
    },
    {
      "cell_type": "code",
      "execution_count": 9,
      "metadata": {},
      "outputs": [],
      "source": [
        "# Step 7: Run Optuna for Random Forest, log the best model only\n",
        "def run_optuna_experiment():\n",
        "    study = optuna.create_study(direction=\"maximize\")\n",
        "    study.optimize(objective_rf, n_trials=30)\n",
        "\n",
        "    # Get the best parameters and log only the best model\n",
        "    best_params = study.best_params\n",
        "    best_model = RandomForestClassifier(n_estimators=best_params['n_estimators'],\n",
        "                                        max_depth=best_params['max_depth'],\n",
        "                                        min_samples_split=best_params['min_samples_split'],\n",
        "                                        min_samples_leaf=best_params['min_samples_leaf'],\n",
        "                                        random_state=42)\n",
        "\n",
        "    # Log the best model with MLflow, passing the algo_name as \"RandomForest\"\n",
        "    log_mlflow(\"RandomForest\", best_model, X_train, X_test, y_train, y_test)"
      ]
    },
    {
      "cell_type": "code",
      "execution_count": 10,
      "metadata": {},
      "outputs": [
        {
          "name": "stderr",
          "output_type": "stream",
          "text": [
            "[I 2025-06-20 21:31:21,620] A new study created in memory with name: no-name-570872f0-58ce-446e-bbb0-5cc9efb09d2f\n",
            "[I 2025-06-20 21:31:23,270] Trial 0 finished with value: 0.6204819277108434 and parameters: {'n_estimators': 147, 'max_depth': 3, 'min_samples_split': 2, 'min_samples_leaf': 4}. Best is trial 0 with value: 0.6204819277108434.\n",
            "[I 2025-06-20 21:31:30,649] Trial 1 finished with value: 0.6755442823927288 and parameters: {'n_estimators': 213, 'max_depth': 11, 'min_samples_split': 5, 'min_samples_leaf': 2}. Best is trial 1 with value: 0.6755442823927288.\n",
            "[I 2025-06-20 21:31:32,450] Trial 2 finished with value: 0.6223842739378567 and parameters: {'n_estimators': 133, 'max_depth': 4, 'min_samples_split': 12, 'min_samples_leaf': 20}. Best is trial 1 with value: 0.6755442823927288.\n",
            "[I 2025-06-20 21:31:38,593] Trial 3 finished with value: 0.6583174804481082 and parameters: {'n_estimators': 269, 'max_depth': 9, 'min_samples_split': 8, 'min_samples_leaf': 20}. Best is trial 1 with value: 0.6755442823927288.\n",
            "[I 2025-06-20 21:31:42,812] Trial 4 finished with value: 0.673853307968717 and parameters: {'n_estimators': 130, 'max_depth': 12, 'min_samples_split': 16, 'min_samples_leaf': 7}. Best is trial 1 with value: 0.6755442823927288.\n",
            "[I 2025-06-20 21:31:46,941] Trial 5 finished with value: 0.6645529486366518 and parameters: {'n_estimators': 144, 'max_depth': 11, 'min_samples_split': 5, 'min_samples_leaf': 10}. Best is trial 1 with value: 0.6755442823927288.\n",
            "[I 2025-06-20 21:31:57,577] Trial 6 finished with value: 0.6862185584443036 and parameters: {'n_estimators': 290, 'max_depth': 16, 'min_samples_split': 8, 'min_samples_leaf': 15}. Best is trial 6 with value: 0.6862185584443036.\n",
            "[I 2025-06-20 21:32:04,148] Trial 7 finished with value: 0.6547241597970831 and parameters: {'n_estimators': 286, 'max_depth': 8, 'min_samples_split': 16, 'min_samples_leaf': 11}. Best is trial 6 with value: 0.6862185584443036.\n",
            "[I 2025-06-20 21:32:17,573] Trial 8 finished with value: 0.6919255971253435 and parameters: {'n_estimators': 277, 'max_depth': 16, 'min_samples_split': 4, 'min_samples_leaf': 6}. Best is trial 8 with value: 0.6919255971253435.\n",
            "[I 2025-06-20 21:32:19,737] Trial 9 finished with value: 0.6595857112661171 and parameters: {'n_estimators': 72, 'max_depth': 11, 'min_samples_split': 8, 'min_samples_leaf': 13}. Best is trial 8 with value: 0.6919255971253435.\n",
            "[I 2025-06-20 21:32:33,674] Trial 10 finished with value: 0.7037624180934263 and parameters: {'n_estimators': 232, 'max_depth': 20, 'min_samples_split': 2, 'min_samples_leaf': 6}. Best is trial 10 with value: 0.7037624180934263.\n",
            "[I 2025-06-20 21:32:47,540] Trial 11 finished with value: 0.7037624180934263 and parameters: {'n_estimators': 226, 'max_depth': 20, 'min_samples_split': 2, 'min_samples_leaf': 6}. Best is trial 10 with value: 0.7037624180934263.\n",
            "[I 2025-06-20 21:33:03,270] Trial 12 finished with value: 0.7104206298879729 and parameters: {'n_estimators': 214, 'max_depth': 20, 'min_samples_split': 20, 'min_samples_leaf': 1}. Best is trial 12 with value: 0.7104206298879729.\n",
            "[I 2025-06-20 21:33:18,540] Trial 13 finished with value: 0.7119002325089833 and parameters: {'n_estimators': 207, 'max_depth': 20, 'min_samples_split': 20, 'min_samples_leaf': 1}. Best is trial 13 with value: 0.7119002325089833.\n",
            "[I 2025-06-20 21:33:28,514] Trial 14 finished with value: 0.7001690974424012 and parameters: {'n_estimators': 185, 'max_depth': 17, 'min_samples_split': 20, 'min_samples_leaf': 2}. Best is trial 13 with value: 0.7119002325089833.\n",
            "[I 2025-06-20 21:33:40,654] Trial 15 finished with value: 0.7030226167829211 and parameters: {'n_estimators': 186, 'max_depth': 18, 'min_samples_split': 20, 'min_samples_leaf': 1}. Best is trial 13 with value: 0.7119002325089833.\n",
            "[I 2025-06-20 21:33:51,736] Trial 16 finished with value: 0.6910801099133376 and parameters: {'n_estimators': 255, 'max_depth': 14, 'min_samples_split': 17, 'min_samples_leaf': 4}. Best is trial 13 with value: 0.7119002325089833.\n",
            "[I 2025-06-20 21:34:01,887] Trial 17 finished with value: 0.7006975269499048 and parameters: {'n_estimators': 195, 'max_depth': 19, 'min_samples_split': 13, 'min_samples_leaf': 9}. Best is trial 13 with value: 0.7119002325089833.\n",
            "[I 2025-06-20 21:34:05,794] Trial 18 finished with value: 0.6845275840202917 and parameters: {'n_estimators': 78, 'max_depth': 15, 'min_samples_split': 18, 'min_samples_leaf': 3}. Best is trial 13 with value: 0.7119002325089833.\n",
            "[I 2025-06-20 21:34:21,243] Trial 19 finished with value: 0.7073557387444515 and parameters: {'n_estimators': 243, 'max_depth': 18, 'min_samples_split': 14, 'min_samples_leaf': 1}. Best is trial 13 with value: 0.7119002325089833.\n",
            "[I 2025-06-20 21:34:28,049] Trial 20 finished with value: 0.6773409427182414 and parameters: {'n_estimators': 204, 'max_depth': 13, 'min_samples_split': 19, 'min_samples_leaf': 17}. Best is trial 13 with value: 0.7119002325089833.\n",
            "[I 2025-06-20 21:34:44,239] Trial 21 finished with value: 0.70714436694145 and parameters: {'n_estimators': 245, 'max_depth': 18, 'min_samples_split': 14, 'min_samples_leaf': 1}. Best is trial 13 with value: 0.7119002325089833.\n",
            "[I 2025-06-20 21:34:55,164] Trial 22 finished with value: 0.7042908476009301 and parameters: {'n_estimators': 169, 'max_depth': 20, 'min_samples_split': 15, 'min_samples_leaf': 4}. Best is trial 13 with value: 0.7119002325089833.\n",
            "[I 2025-06-20 21:35:10,827] Trial 23 finished with value: 0.7067216233354471 and parameters: {'n_estimators': 242, 'max_depth': 18, 'min_samples_split': 18, 'min_samples_leaf': 1}. Best is trial 13 with value: 0.7119002325089833.\n",
            "[I 2025-06-20 21:35:18,900] Trial 24 finished with value: 0.6934051997463538 and parameters: {'n_estimators': 168, 'max_depth': 17, 'min_samples_split': 10, 'min_samples_leaf': 8}. Best is trial 13 with value: 0.7119002325089833.\n",
            "[I 2025-06-20 21:35:32,962] Trial 25 finished with value: 0.7046079053054323 and parameters: {'n_estimators': 217, 'max_depth': 19, 'min_samples_split': 18, 'min_samples_leaf': 3}. Best is trial 13 with value: 0.7119002325089833.\n",
            "[I 2025-06-20 21:35:46,143] Trial 26 finished with value: 0.6924540266328472 and parameters: {'n_estimators': 265, 'max_depth': 15, 'min_samples_split': 10, 'min_samples_leaf': 4}. Best is trial 13 with value: 0.7119002325089833.\n",
            "[I 2025-06-20 21:35:54,103] Trial 27 finished with value: 0.7089410272669626 and parameters: {'n_estimators': 107, 'max_depth': 20, 'min_samples_split': 20, 'min_samples_leaf': 1}. Best is trial 13 with value: 0.7119002325089833.\n",
            "[I 2025-06-20 21:36:00,496] Trial 28 finished with value: 0.7013316423589093 and parameters: {'n_estimators': 105, 'max_depth': 20, 'min_samples_split': 20, 'min_samples_leaf': 5}. Best is trial 13 with value: 0.7119002325089833.\n",
            "[I 2025-06-20 21:36:01,661] Trial 29 finished with value: 0.6107588247727753 and parameters: {'n_estimators': 95, 'max_depth': 3, 'min_samples_split': 19, 'min_samples_leaf': 3}. Best is trial 13 with value: 0.7119002325089833.\n",
            "2025/06/20 21:36:32 WARNING mlflow.models.model: Model logged without a signature and input example. Please set `input_example` parameter when logging the model to auto infer the model signature.\n",
            "2025/06/20 21:36:41 INFO mlflow.tracking._tracking_service.client: 🏃 View run RandomForest_SMOTE_TFIDF_Trigrams at: http://ec2-13-127-25-124.ap-south-1.compute.amazonaws.com:5000/#/experiments/547399241317235994/runs/202087dad8ca407f9687ec1345cc901d.\n",
            "2025/06/20 21:36:41 INFO mlflow.tracking._tracking_service.client: 🧪 View experiment at: http://ec2-13-127-25-124.ap-south-1.compute.amazonaws.com:5000/#/experiments/547399241317235994.\n"
          ]
        }
      ],
      "source": [
        "# Run the experiment for Random Forest\n",
        "run_optuna_experiment()"
      ]
    }
  ],
  "metadata": {
    "colab": {
      "provenance": []
    },
    "kernelspec": {
      "display_name": "yt-insights-ch-plugin",
      "language": "python",
      "name": "python3"
    },
    "language_info": {
      "codemirror_mode": {
        "name": "ipython",
        "version": 3
      },
      "file_extension": ".py",
      "mimetype": "text/x-python",
      "name": "python",
      "nbconvert_exporter": "python",
      "pygments_lexer": "ipython3",
      "version": "3.11.13"
    }
  },
  "nbformat": 4,
  "nbformat_minor": 0
}
