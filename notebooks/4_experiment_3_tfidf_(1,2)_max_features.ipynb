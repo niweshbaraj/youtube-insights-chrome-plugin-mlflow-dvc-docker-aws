{
 "cells": [
  {
   "cell_type": "code",
   "execution_count": 1,
   "id": "78809424",
   "metadata": {},
   "outputs": [],
   "source": [
    "import mlflow"
   ]
  },
  {
   "cell_type": "code",
   "execution_count": 2,
   "id": "706ee053",
   "metadata": {},
   "outputs": [],
   "source": [
    "# Set up the MLflow tracking server\n",
    "mlflow.set_tracking_uri(\"http://ec2-13-127-25-124.ap-south-1.compute.amazonaws.com:5000/\")"
   ]
  },
  {
   "cell_type": "code",
   "execution_count": 3,
   "id": "f08cb2b3",
   "metadata": {},
   "outputs": [
    {
     "name": "stderr",
     "output_type": "stream",
     "text": [
      "2025/06/20 19:21:10 INFO mlflow.tracking.fluent: Experiment with name 'Exp 3 - TfIdf Bigram max_features' does not exist. Creating a new experiment.\n"
     ]
    },
    {
     "data": {
      "text/plain": [
       "<Experiment: artifact_location='s3://youtube-insights-chrome-plugin-mlflow-bucket/766149301779994259', creation_time=1750427470474, experiment_id='766149301779994259', last_update_time=1750427470474, lifecycle_stage='active', name='Exp 3 - TfIdf Bigram max_features', tags={}>"
      ]
     },
     "execution_count": 3,
     "metadata": {},
     "output_type": "execute_result"
    }
   ],
   "source": [
    "# Set or create an experiment\n",
    "mlflow.set_experiment(\"Exp 3 - TfIdf Bigram max_features\")"
   ]
  },
  {
   "cell_type": "code",
   "execution_count": 4,
   "id": "419dcbd2",
   "metadata": {},
   "outputs": [],
   "source": [
    "from sklearn.feature_extraction.text import TfidfVectorizer\n",
    "from sklearn.ensemble import RandomForestClassifier\n",
    "from sklearn.model_selection import train_test_split\n",
    "from sklearn.metrics import accuracy_score, classification_report, confusion_matrix\n",
    "import mlflow\n",
    "import mlflow.sklearn\n",
    "import matplotlib.pyplot as plt\n",
    "import seaborn as sns\n",
    "import pandas as pd\n",
    "import os"
   ]
  },
  {
   "cell_type": "code",
   "execution_count": 5,
   "id": "988898da",
   "metadata": {},
   "outputs": [
    {
     "data": {
      "text/plain": [
       "(36662, 2)"
      ]
     },
     "execution_count": 5,
     "metadata": {},
     "output_type": "execute_result"
    }
   ],
   "source": [
    "df = pd.read_csv('reddit_preprocessing.csv').dropna(subset=['clean_comment'])\n",
    "df.shape"
   ]
  },
  {
   "cell_type": "code",
   "execution_count": 6,
   "id": "b7f9439d",
   "metadata": {},
   "outputs": [],
   "source": [
    "# Step 1: Function to run the experiment\n",
    "def run_experiment_tfidf_max_features(max_features):\n",
    "    ngram_range = (1, 2)  # Bigram setting\n",
    "\n",
    "    # Step 2: Vectorization using TF-IDF with varying max_features\n",
    "    vectorizer = TfidfVectorizer(ngram_range=ngram_range, max_features=max_features)\n",
    "\n",
    "    X_train, X_test, y_train, y_test = train_test_split(df['clean_comment'], df['category'], test_size=0.2, random_state=42, stratify=df['category'])\n",
    "\n",
    "    X_train = vectorizer.fit_transform(X_train)\n",
    "    X_test = vectorizer.transform(X_test)\n",
    "\n",
    "    # Step 4: Define and train a Random Forest model\n",
    "    with mlflow.start_run() as run:\n",
    "        # Set tags for the experiment and run\n",
    "        mlflow.set_tag(\"mlflow.runName\", f\"TFIDF_Bigrams_max_features_{max_features}\")\n",
    "        mlflow.set_tag(\"experiment_type\", \"feature_engineering\")\n",
    "        mlflow.set_tag(\"model_type\", \"RandomForestClassifier\")\n",
    "\n",
    "        # Add a description\n",
    "        mlflow.set_tag(\"description\", f\"RandomForest with TF-IDF Bigrams, max_features={max_features}\")\n",
    "\n",
    "        # Log vectorizer parameters\n",
    "        mlflow.log_param(\"vectorizer_type\", \"TF-IDF\")\n",
    "        mlflow.log_param(\"ngram_range\", ngram_range)\n",
    "        mlflow.log_param(\"vectorizer_max_features\", max_features)\n",
    "\n",
    "        # Log Random Forest parameters\n",
    "        n_estimators = 200\n",
    "        max_depth = 15\n",
    "\n",
    "        mlflow.log_param(\"n_estimators\", n_estimators)\n",
    "        mlflow.log_param(\"max_depth\", max_depth)\n",
    "\n",
    "        # Initialize and train the model\n",
    "        model = RandomForestClassifier(n_estimators=n_estimators, max_depth=max_depth, random_state=42)\n",
    "        model.fit(X_train, y_train)\n",
    "\n",
    "        # Step 5: Make predictions and log metrics\n",
    "        y_pred = model.predict(X_test)\n",
    "\n",
    "        # Log accuracy\n",
    "        accuracy = accuracy_score(y_test, y_pred)\n",
    "        mlflow.log_metric(\"accuracy\", accuracy)\n",
    "\n",
    "        # Log classification report\n",
    "        classification_rep = classification_report(y_test, y_pred, output_dict=True)\n",
    "        for label, metrics in classification_rep.items():\n",
    "            if isinstance(metrics, dict):\n",
    "                for metric, value in metrics.items():\n",
    "                    mlflow.log_metric(f\"{label}_{metric}\", value)\n",
    "\n",
    "        # Log confusion matrix\n",
    "        conf_matrix = confusion_matrix(y_test, y_pred)\n",
    "        plt.figure(figsize=(8, 6))\n",
    "        sns.heatmap(conf_matrix, annot=True, fmt=\"d\", cmap=\"Blues\")\n",
    "        plt.xlabel(\"Predicted\")\n",
    "        plt.ylabel(\"Actual\")\n",
    "        plt.title(f\"Confusion Matrix: TF-IDF Bigrams, max_features={max_features}\")\n",
    "        plt.savefig(f\"confusion_matrix_TFIDF_Bigrams_{max_features}.png\")\n",
    "        mlflow.log_artifact(f\"confusion_matrix_TFIDF_Bigrams_{max_features}.png\")\n",
    "        plt.close()\n",
    "\n",
    "        # Log the model\n",
    "        mlflow.sklearn.log_model(model, f\"random_forest_model_tfidf_bigrams_{max_features}\")"
   ]
  },
  {
   "cell_type": "code",
   "execution_count": 7,
   "id": "e50d5ba5",
   "metadata": {},
   "outputs": [
    {
     "name": "stderr",
     "output_type": "stream",
     "text": [
      "2025/06/20 19:26:31 WARNING mlflow.models.model: Model logged without a signature and input example. Please set `input_example` parameter when logging the model to auto infer the model signature.\n",
      "2025/06/20 19:26:38 INFO mlflow.tracking._tracking_service.client: 🏃 View run TFIDF_Bigrams_max_features_1000 at: http://ec2-13-127-25-124.ap-south-1.compute.amazonaws.com:5000/#/experiments/766149301779994259/runs/3753fbe684044b1bb2187e04ae9a3f97.\n",
      "2025/06/20 19:26:38 INFO mlflow.tracking._tracking_service.client: 🧪 View experiment at: http://ec2-13-127-25-124.ap-south-1.compute.amazonaws.com:5000/#/experiments/766149301779994259.\n",
      "2025/06/20 19:26:50 WARNING mlflow.models.model: Model logged without a signature and input example. Please set `input_example` parameter when logging the model to auto infer the model signature.\n",
      "2025/06/20 19:26:58 INFO mlflow.tracking._tracking_service.client: 🏃 View run TFIDF_Bigrams_max_features_2000 at: http://ec2-13-127-25-124.ap-south-1.compute.amazonaws.com:5000/#/experiments/766149301779994259/runs/58d87b72117b41479ef359bc1f08c950.\n",
      "2025/06/20 19:26:58 INFO mlflow.tracking._tracking_service.client: 🧪 View experiment at: http://ec2-13-127-25-124.ap-south-1.compute.amazonaws.com:5000/#/experiments/766149301779994259.\n",
      "2025/06/20 19:27:10 WARNING mlflow.models.model: Model logged without a signature and input example. Please set `input_example` parameter when logging the model to auto infer the model signature.\n",
      "2025/06/20 19:27:17 INFO mlflow.tracking._tracking_service.client: 🏃 View run TFIDF_Bigrams_max_features_3000 at: http://ec2-13-127-25-124.ap-south-1.compute.amazonaws.com:5000/#/experiments/766149301779994259/runs/8be1fc2109394e5588eabe4032cc1867.\n",
      "2025/06/20 19:27:17 INFO mlflow.tracking._tracking_service.client: 🧪 View experiment at: http://ec2-13-127-25-124.ap-south-1.compute.amazonaws.com:5000/#/experiments/766149301779994259.\n",
      "2025/06/20 19:27:29 WARNING mlflow.models.model: Model logged without a signature and input example. Please set `input_example` parameter when logging the model to auto infer the model signature.\n",
      "2025/06/20 19:27:37 INFO mlflow.tracking._tracking_service.client: 🏃 View run TFIDF_Bigrams_max_features_4000 at: http://ec2-13-127-25-124.ap-south-1.compute.amazonaws.com:5000/#/experiments/766149301779994259/runs/11e83da0e9544733a7f3cb33e3e446fe.\n",
      "2025/06/20 19:27:37 INFO mlflow.tracking._tracking_service.client: 🧪 View experiment at: http://ec2-13-127-25-124.ap-south-1.compute.amazonaws.com:5000/#/experiments/766149301779994259.\n",
      "2025/06/20 19:27:49 WARNING mlflow.models.model: Model logged without a signature and input example. Please set `input_example` parameter when logging the model to auto infer the model signature.\n",
      "2025/06/20 19:27:56 INFO mlflow.tracking._tracking_service.client: 🏃 View run TFIDF_Bigrams_max_features_5000 at: http://ec2-13-127-25-124.ap-south-1.compute.amazonaws.com:5000/#/experiments/766149301779994259/runs/a17956f01e03493e9f9fc6f738690fbf.\n",
      "2025/06/20 19:27:56 INFO mlflow.tracking._tracking_service.client: 🧪 View experiment at: http://ec2-13-127-25-124.ap-south-1.compute.amazonaws.com:5000/#/experiments/766149301779994259.\n",
      "2025/06/20 19:28:08 WARNING mlflow.models.model: Model logged without a signature and input example. Please set `input_example` parameter when logging the model to auto infer the model signature.\n",
      "2025/06/20 19:28:15 INFO mlflow.tracking._tracking_service.client: 🏃 View run TFIDF_Bigrams_max_features_6000 at: http://ec2-13-127-25-124.ap-south-1.compute.amazonaws.com:5000/#/experiments/766149301779994259/runs/ae5f2713832f40279a8d9369ff09f6ae.\n",
      "2025/06/20 19:28:15 INFO mlflow.tracking._tracking_service.client: 🧪 View experiment at: http://ec2-13-127-25-124.ap-south-1.compute.amazonaws.com:5000/#/experiments/766149301779994259.\n",
      "2025/06/20 19:28:27 WARNING mlflow.models.model: Model logged without a signature and input example. Please set `input_example` parameter when logging the model to auto infer the model signature.\n",
      "2025/06/20 19:28:34 INFO mlflow.tracking._tracking_service.client: 🏃 View run TFIDF_Bigrams_max_features_7000 at: http://ec2-13-127-25-124.ap-south-1.compute.amazonaws.com:5000/#/experiments/766149301779994259/runs/09f407372cf64d5c95dc7f65b544afc6.\n",
      "2025/06/20 19:28:34 INFO mlflow.tracking._tracking_service.client: 🧪 View experiment at: http://ec2-13-127-25-124.ap-south-1.compute.amazonaws.com:5000/#/experiments/766149301779994259.\n",
      "2025/06/20 19:28:46 WARNING mlflow.models.model: Model logged without a signature and input example. Please set `input_example` parameter when logging the model to auto infer the model signature.\n",
      "2025/06/20 19:28:52 INFO mlflow.tracking._tracking_service.client: 🏃 View run TFIDF_Bigrams_max_features_8000 at: http://ec2-13-127-25-124.ap-south-1.compute.amazonaws.com:5000/#/experiments/766149301779994259/runs/9558eb51228841fa95f5f63edfcac648.\n",
      "2025/06/20 19:28:52 INFO mlflow.tracking._tracking_service.client: 🧪 View experiment at: http://ec2-13-127-25-124.ap-south-1.compute.amazonaws.com:5000/#/experiments/766149301779994259.\n",
      "2025/06/20 19:29:05 WARNING mlflow.models.model: Model logged without a signature and input example. Please set `input_example` parameter when logging the model to auto infer the model signature.\n",
      "2025/06/20 19:29:10 INFO mlflow.tracking._tracking_service.client: 🏃 View run TFIDF_Bigrams_max_features_9000 at: http://ec2-13-127-25-124.ap-south-1.compute.amazonaws.com:5000/#/experiments/766149301779994259/runs/f8f3dcd463e449a3b868456587c491e2.\n",
      "2025/06/20 19:29:10 INFO mlflow.tracking._tracking_service.client: 🧪 View experiment at: http://ec2-13-127-25-124.ap-south-1.compute.amazonaws.com:5000/#/experiments/766149301779994259.\n",
      "2025/06/20 19:29:23 WARNING mlflow.models.model: Model logged without a signature and input example. Please set `input_example` parameter when logging the model to auto infer the model signature.\n",
      "2025/06/20 19:29:29 INFO mlflow.tracking._tracking_service.client: 🏃 View run TFIDF_Bigrams_max_features_10000 at: http://ec2-13-127-25-124.ap-south-1.compute.amazonaws.com:5000/#/experiments/766149301779994259/runs/f2c6c65d554e45989a64e64af092dd42.\n",
      "2025/06/20 19:29:29 INFO mlflow.tracking._tracking_service.client: 🧪 View experiment at: http://ec2-13-127-25-124.ap-south-1.compute.amazonaws.com:5000/#/experiments/766149301779994259.\n"
     ]
    }
   ],
   "source": [
    "# Step 6: Test various max_features values\n",
    "max_features_values = [1000, 2000, 3000, 4000, 5000, 6000, 7000, 8000, 9000, 10000]\n",
    "\n",
    "for max_features in max_features_values:\n",
    "    run_experiment_tfidf_max_features(max_features)"
   ]
  }
 ],
 "metadata": {
  "kernelspec": {
   "display_name": "yt-insights-ch-plugin",
   "language": "python",
   "name": "python3"
  },
  "language_info": {
   "codemirror_mode": {
    "name": "ipython",
    "version": 3
   },
   "file_extension": ".py",
   "mimetype": "text/x-python",
   "name": "python",
   "nbconvert_exporter": "python",
   "pygments_lexer": "ipython3",
   "version": "3.11.13"
  }
 },
 "nbformat": 4,
 "nbformat_minor": 5
}
