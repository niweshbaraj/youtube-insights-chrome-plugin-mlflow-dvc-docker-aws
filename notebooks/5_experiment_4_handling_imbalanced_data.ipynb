{
 "cells": [
  {
   "cell_type": "code",
   "execution_count": 1,
   "id": "741177f8",
   "metadata": {},
   "outputs": [],
   "source": [
    "import mlflow"
   ]
  },
  {
   "cell_type": "code",
   "execution_count": 2,
   "id": "a3550bfd",
   "metadata": {},
   "outputs": [],
   "source": [
    "# Set up the MLflow tracking server\n",
    "mlflow.set_tracking_uri(\"http://ec2-13-127-25-124.ap-south-1.compute.amazonaws.com:5000/\")"
   ]
  },
  {
   "cell_type": "code",
   "execution_count": 3,
   "id": "d46b5f93",
   "metadata": {},
   "outputs": [
    {
     "name": "stderr",
     "output_type": "stream",
     "text": [
      "2025/06/20 20:15:41 INFO mlflow.tracking.fluent: Experiment with name 'Exp 4 - Handling Imbalanced Data' does not exist. Creating a new experiment.\n"
     ]
    },
    {
     "data": {
      "text/plain": [
       "<Experiment: artifact_location='s3://youtube-insights-chrome-plugin-mlflow-bucket/526835002342603939', creation_time=1750430741065, experiment_id='526835002342603939', last_update_time=1750430741065, lifecycle_stage='active', name='Exp 4 - Handling Imbalanced Data', tags={}>"
      ]
     },
     "execution_count": 3,
     "metadata": {},
     "output_type": "execute_result"
    }
   ],
   "source": [
    "# Set or create an experiment\n",
    "mlflow.set_experiment(\"Exp 4 - Handling Imbalanced Data\")"
   ]
  },
  {
   "cell_type": "code",
   "execution_count": 5,
   "id": "c41e9d2e",
   "metadata": {},
   "outputs": [
    {
     "name": "stdout",
     "output_type": "stream",
     "text": [
      "Collecting imblearn\n",
      "  Downloading imblearn-0.0-py2.py3-none-any.whl.metadata (355 bytes)\n",
      "Collecting imbalanced-learn (from imblearn)\n",
      "  Downloading imbalanced_learn-0.13.0-py3-none-any.whl.metadata (8.8 kB)\n",
      "Requirement already satisfied: numpy<3,>=1.24.3 in c:\\programdata\\anaconda3\\envs\\yt-insights-ch-plugin\\lib\\site-packages (from imbalanced-learn->imblearn) (2.1.2)\n",
      "Requirement already satisfied: scipy<2,>=1.10.1 in c:\\programdata\\anaconda3\\envs\\yt-insights-ch-plugin\\lib\\site-packages (from imbalanced-learn->imblearn) (1.15.3)\n",
      "Requirement already satisfied: scikit-learn<2,>=1.3.2 in c:\\programdata\\anaconda3\\envs\\yt-insights-ch-plugin\\lib\\site-packages (from imbalanced-learn->imblearn) (1.7.0)\n",
      "Collecting sklearn-compat<1,>=0.1 (from imbalanced-learn->imblearn)\n",
      "  Downloading sklearn_compat-0.1.3-py3-none-any.whl.metadata (18 kB)\n",
      "Requirement already satisfied: joblib<2,>=1.1.1 in c:\\programdata\\anaconda3\\envs\\yt-insights-ch-plugin\\lib\\site-packages (from imbalanced-learn->imblearn) (1.4.2)\n",
      "Requirement already satisfied: threadpoolctl<4,>=2.0.0 in c:\\programdata\\anaconda3\\envs\\yt-insights-ch-plugin\\lib\\site-packages (from imbalanced-learn->imblearn) (3.6.0)\n",
      "Collecting scikit-learn<2,>=1.3.2 (from imbalanced-learn->imblearn)\n",
      "  Downloading scikit_learn-1.6.1-cp311-cp311-win_amd64.whl.metadata (15 kB)\n",
      "Downloading imblearn-0.0-py2.py3-none-any.whl (1.9 kB)\n",
      "Downloading imbalanced_learn-0.13.0-py3-none-any.whl (238 kB)\n",
      "Downloading sklearn_compat-0.1.3-py3-none-any.whl (18 kB)\n",
      "Downloading scikit_learn-1.6.1-cp311-cp311-win_amd64.whl (11.1 MB)\n",
      "   ---------------------------------------- 0.0/11.1 MB ? eta -:--:--\n",
      "   ------- -------------------------------- 2.1/11.1 MB 11.7 MB/s eta 0:00:01\n",
      "   -------------- ------------------------- 3.9/11.1 MB 10.2 MB/s eta 0:00:01\n",
      "   ------------------ --------------------- 5.2/11.1 MB 9.4 MB/s eta 0:00:01\n",
      "   --------------------- ------------------ 6.0/11.1 MB 8.2 MB/s eta 0:00:01\n",
      "   ------------------------- -------------- 7.1/11.1 MB 7.4 MB/s eta 0:00:01\n",
      "   ----------------------------- ---------- 8.1/11.1 MB 7.1 MB/s eta 0:00:01\n",
      "   -------------------------------- ------- 9.2/11.1 MB 6.6 MB/s eta 0:00:01\n",
      "   ---------------------------------- ----- 9.7/11.1 MB 6.2 MB/s eta 0:00:01\n",
      "   ------------------------------------ --- 10.2/11.1 MB 5.7 MB/s eta 0:00:01\n",
      "   ------------------------------------- -- 10.5/11.1 MB 5.4 MB/s eta 0:00:01\n",
      "   ---------------------------------------  11.0/11.1 MB 5.0 MB/s eta 0:00:01\n",
      "   ---------------------------------------- 11.1/11.1 MB 4.9 MB/s eta 0:00:00\n",
      "Installing collected packages: scikit-learn, sklearn-compat, imbalanced-learn, imblearn\n",
      "\n",
      "  Attempting uninstall: scikit-learn\n",
      "\n",
      "    Found existing installation: scikit-learn 1.7.0\n",
      "\n",
      "   ---------------------------------------- 0/4 [scikit-learn]\n",
      "    Uninstalling scikit-learn-1.7.0:\n",
      "   ---------------------------------------- 0/4 [scikit-learn]\n",
      "      Successfully uninstalled scikit-learn-1.7.0\n",
      "   ---------------------------------------- 0/4 [scikit-learn]\n",
      "   ---------------------------------------- 0/4 [scikit-learn]\n",
      "   ---------------------------------------- 0/4 [scikit-learn]\n",
      "   ---------------------------------------- 0/4 [scikit-learn]\n",
      "   ---------------------------------------- 0/4 [scikit-learn]\n",
      "   ---------------------------------------- 0/4 [scikit-learn]\n",
      "   ---------------------------------------- 0/4 [scikit-learn]\n",
      "   ---------------------------------------- 0/4 [scikit-learn]\n",
      "   ---------------------------------------- 0/4 [scikit-learn]\n",
      "   ---------------------------------------- 0/4 [scikit-learn]\n",
      "   ---------------------------------------- 0/4 [scikit-learn]\n",
      "   ---------------------------------------- 0/4 [scikit-learn]\n",
      "   ---------------------------------------- 0/4 [scikit-learn]\n",
      "   ---------------------------------------- 0/4 [scikit-learn]\n",
      "   ---------------------------------------- 0/4 [scikit-learn]\n",
      "   ---------------------------------------- 0/4 [scikit-learn]\n",
      "   ---------------------------------------- 0/4 [scikit-learn]\n",
      "   ---------------------------------------- 0/4 [scikit-learn]\n",
      "   ---------------------------------------- 0/4 [scikit-learn]\n",
      "   ---------------------------------------- 0/4 [scikit-learn]\n",
      "   ---------------------------------------- 0/4 [scikit-learn]\n",
      "   ---------------------------------------- 0/4 [scikit-learn]\n",
      "   ---------------------------------------- 0/4 [scikit-learn]\n",
      "   ---------------------------------------- 0/4 [scikit-learn]\n",
      "   ---------------------------------------- 0/4 [scikit-learn]\n",
      "   ---------------------------------------- 0/4 [scikit-learn]\n",
      "   ---------------------------------------- 0/4 [scikit-learn]\n",
      "   ---------------------------------------- 0/4 [scikit-learn]\n",
      "   ---------------------------------------- 0/4 [scikit-learn]\n",
      "   ---------------------------------------- 0/4 [scikit-learn]\n",
      "   ---------------------------------------- 0/4 [scikit-learn]\n",
      "   ---------------------------------------- 0/4 [scikit-learn]\n",
      "   ---------------------------------------- 0/4 [scikit-learn]\n",
      "   ---------------------------------------- 0/4 [scikit-learn]\n",
      "   ---------------------------------------- 0/4 [scikit-learn]\n",
      "   ---------- ----------------------------- 1/4 [sklearn-compat]\n",
      "   -------------------- ------------------- 2/4 [imbalanced-learn]\n",
      "   ---------------------------------------- 4/4 [imblearn]\n",
      "\n",
      "Successfully installed imbalanced-learn-0.13.0 imblearn-0.0 scikit-learn-1.6.1 sklearn-compat-0.1.3\n"
     ]
    },
    {
     "name": "stderr",
     "output_type": "stream",
     "text": [
      "  WARNING: Failed to remove contents in a temporary directory 'C:\\ProgramData\\anaconda3\\envs\\yt-insights-ch-plugin\\Lib\\site-packages\\~klearn'.\n",
      "  You can safely remove it manually.\n"
     ]
    }
   ],
   "source": [
    "!pip install imblearn"
   ]
  },
  {
   "cell_type": "code",
   "execution_count": 6,
   "id": "8509c16c",
   "metadata": {},
   "outputs": [],
   "source": [
    "from imblearn.over_sampling import SMOTE, ADASYN\n",
    "from imblearn.under_sampling import RandomUnderSampler\n",
    "from imblearn.combine import SMOTEENN\n",
    "from sklearn.feature_extraction.text import TfidfVectorizer\n",
    "from sklearn.ensemble import RandomForestClassifier\n",
    "from sklearn.model_selection import train_test_split\n",
    "from sklearn.metrics import accuracy_score, classification_report, confusion_matrix\n",
    "import mlflow\n",
    "import mlflow.sklearn\n",
    "import matplotlib.pyplot as plt\n",
    "import seaborn as sns\n",
    "import pandas as pd\n",
    "import os"
   ]
  },
  {
   "cell_type": "code",
   "execution_count": 7,
   "id": "7c54b379",
   "metadata": {},
   "outputs": [
    {
     "data": {
      "text/plain": [
       "(36662, 2)"
      ]
     },
     "execution_count": 7,
     "metadata": {},
     "output_type": "execute_result"
    }
   ],
   "source": [
    "df = pd.read_csv('reddit_preprocessing.csv').dropna(subset=['clean_comment'])\n",
    "df.shape"
   ]
  },
  {
   "cell_type": "code",
   "execution_count": 10,
   "id": "25e3f939",
   "metadata": {},
   "outputs": [],
   "source": [
    "# Step 1: Function to run the experiment\n",
    "def run_imbalanced_experiment(imbalance_method):\n",
    "    ngram_range = (1, 3)  # Trigram setting\n",
    "    max_features = 1000  # Set max_features to 1000 for TF-IDF\n",
    "\n",
    "    # Step 4: Train-test split before vectorization and resampling\n",
    "    X_train, X_test, y_train, y_test = train_test_split(df['clean_comment'], df['category'], test_size=0.2, random_state=42, stratify=df['category'])\n",
    "\n",
    "    # Step 2: Vectorization using TF-IDF, fit on training data only\n",
    "    vectorizer = TfidfVectorizer(ngram_range=ngram_range, max_features=max_features)\n",
    "    X_train_vec = vectorizer.fit_transform(X_train)  # Fit on training data\n",
    "    X_test_vec = vectorizer.transform(X_test)  # Transform test data\n",
    "\n",
    "    # Step 3: Handle class imbalance based on the selected method (only applied to the training set)\n",
    "    if imbalance_method == 'class_weights':\n",
    "        # Use class_weight in Random Forest\n",
    "        class_weight = 'balanced'\n",
    "    else:\n",
    "        class_weight = None  # Do not apply class_weight if using resampling\n",
    "\n",
    "        # Resampling Techniques (only apply to the training set)\n",
    "        if imbalance_method == 'oversampling':\n",
    "            smote = SMOTE(random_state=42)\n",
    "            X_train_vec, y_train = smote.fit_resample(X_train_vec, y_train)\n",
    "        elif imbalance_method == 'adasyn':\n",
    "            adasyn = ADASYN(random_state=42)\n",
    "            X_train_vec, y_train = adasyn.fit_resample(X_train_vec, y_train)\n",
    "        elif imbalance_method == 'undersampling':\n",
    "            rus = RandomUnderSampler(random_state=42)\n",
    "            X_train_vec, y_train = rus.fit_resample(X_train_vec, y_train)\n",
    "        elif imbalance_method == 'smote_enn':\n",
    "            smote_enn = SMOTEENN(random_state=42)\n",
    "            X_train_vec, y_train = smote_enn.fit_resample(X_train_vec, y_train)\n",
    "\n",
    "    # Step 5: Define and train a Random Forest model\n",
    "    with mlflow.start_run() as run:\n",
    "        # Set tags for the experiment and run\n",
    "        mlflow.set_tag(\"mlflow.runName\", f\"Imbalance_{imbalance_method}_RandomForest_TFIDF_Trigrams\")\n",
    "        mlflow.set_tag(\"experiment_type\", \"imbalance_handling\")\n",
    "        mlflow.set_tag(\"model_type\", \"RandomForestClassifier\")\n",
    "\n",
    "        # Add a description\n",
    "        mlflow.set_tag(\"description\", f\"RandomForest with TF-IDF Trigrams, imbalance handling method={imbalance_method}\")\n",
    "\n",
    "        # Log vectorizer parameters\n",
    "        mlflow.log_param(\"vectorizer_type\", \"TF-IDF\")\n",
    "        mlflow.log_param(\"ngram_range\", ngram_range)\n",
    "        mlflow.log_param(\"vectorizer_max_features\", max_features)\n",
    "\n",
    "        # Log Random Forest parameters\n",
    "        n_estimators = 200\n",
    "        max_depth = 15\n",
    "\n",
    "        mlflow.log_param(\"n_estimators\", n_estimators)\n",
    "        mlflow.log_param(\"max_depth\", max_depth)\n",
    "        mlflow.log_param(\"imbalance_method\", imbalance_method)\n",
    "\n",
    "        # Initialize and train the model\n",
    "        model = RandomForestClassifier(n_estimators=n_estimators, max_depth=max_depth, random_state=42, class_weight=class_weight)\n",
    "        model.fit(X_train_vec, y_train)\n",
    "\n",
    "        # Step 6: Make predictions and log metrics\n",
    "        y_pred = model.predict(X_test_vec)\n",
    "\n",
    "        # Log accuracy\n",
    "        accuracy = accuracy_score(y_test, y_pred)\n",
    "        mlflow.log_metric(\"accuracy\", accuracy)\n",
    "\n",
    "        # Log classification report\n",
    "        classification_rep = classification_report(y_test, y_pred, output_dict=True)\n",
    "        for label, metrics in classification_rep.items():\n",
    "            if isinstance(metrics, dict):\n",
    "                for metric, value in metrics.items():\n",
    "                    mlflow.log_metric(f\"{label}_{metric}\", value)\n",
    "\n",
    "        # Log confusion matrix\n",
    "        conf_matrix = confusion_matrix(y_test, y_pred)\n",
    "        plt.figure(figsize=(8, 6))\n",
    "        sns.heatmap(conf_matrix, annot=True, fmt=\"d\", cmap=\"Blues\")\n",
    "        plt.xlabel(\"Predicted\")\n",
    "        plt.ylabel(\"Actual\")\n",
    "        plt.title(f\"Confusion Matrix: TF-IDF Trigrams, Imbalance={imbalance_method}\")\n",
    "        confusion_matrix_filename = f\"./artifacts/confusion_matrix_{imbalance_method}.png\"\n",
    "        plt.savefig(confusion_matrix_filename)\n",
    "        mlflow.log_artifact(confusion_matrix_filename)\n",
    "        plt.close()\n",
    "\n",
    "        # Log the model\n",
    "        mlflow.sklearn.log_model(model, f\"random_forest_model_tfidf_trigrams_imbalance_{imbalance_method}\")\n"
   ]
  },
  {
   "cell_type": "code",
   "execution_count": 11,
   "id": "eda2c9cb",
   "metadata": {},
   "outputs": [
    {
     "name": "stderr",
     "output_type": "stream",
     "text": [
      "2025/06/20 20:33:11 WARNING mlflow.models.model: Model logged without a signature and input example. Please set `input_example` parameter when logging the model to auto infer the model signature.\n",
      "2025/06/20 20:33:18 INFO mlflow.tracking._tracking_service.client: 🏃 View run Imbalance_class_weights_RandomForest_TFIDF_Trigrams at: http://ec2-13-127-25-124.ap-south-1.compute.amazonaws.com:5000/#/experiments/526835002342603939/runs/88bd240ce5c443a2bbf0c1ee28a636d0.\n",
      "2025/06/20 20:33:18 INFO mlflow.tracking._tracking_service.client: 🧪 View experiment at: http://ec2-13-127-25-124.ap-south-1.compute.amazonaws.com:5000/#/experiments/526835002342603939.\n",
      "2025/06/20 20:33:36 WARNING mlflow.models.model: Model logged without a signature and input example. Please set `input_example` parameter when logging the model to auto infer the model signature.\n",
      "2025/06/20 20:33:44 INFO mlflow.tracking._tracking_service.client: 🏃 View run Imbalance_oversampling_RandomForest_TFIDF_Trigrams at: http://ec2-13-127-25-124.ap-south-1.compute.amazonaws.com:5000/#/experiments/526835002342603939/runs/add575b8c7bb46b3a5caba5a84e8b445.\n",
      "2025/06/20 20:33:44 INFO mlflow.tracking._tracking_service.client: 🧪 View experiment at: http://ec2-13-127-25-124.ap-south-1.compute.amazonaws.com:5000/#/experiments/526835002342603939.\n",
      "2025/06/20 20:34:08 WARNING mlflow.models.model: Model logged without a signature and input example. Please set `input_example` parameter when logging the model to auto infer the model signature.\n",
      "2025/06/20 20:34:16 INFO mlflow.tracking._tracking_service.client: 🏃 View run Imbalance_adasyn_RandomForest_TFIDF_Trigrams at: http://ec2-13-127-25-124.ap-south-1.compute.amazonaws.com:5000/#/experiments/526835002342603939/runs/3eae0484389e4fd78b392d8f291c5274.\n",
      "2025/06/20 20:34:16 INFO mlflow.tracking._tracking_service.client: 🧪 View experiment at: http://ec2-13-127-25-124.ap-south-1.compute.amazonaws.com:5000/#/experiments/526835002342603939.\n",
      "2025/06/20 20:34:29 WARNING mlflow.models.model: Model logged without a signature and input example. Please set `input_example` parameter when logging the model to auto infer the model signature.\n",
      "2025/06/20 20:34:37 INFO mlflow.tracking._tracking_service.client: 🏃 View run Imbalance_undersampling_RandomForest_TFIDF_Trigrams at: http://ec2-13-127-25-124.ap-south-1.compute.amazonaws.com:5000/#/experiments/526835002342603939/runs/1aed835b99c949ba88eec107afa6fbfd.\n",
      "2025/06/20 20:34:37 INFO mlflow.tracking._tracking_service.client: 🧪 View experiment at: http://ec2-13-127-25-124.ap-south-1.compute.amazonaws.com:5000/#/experiments/526835002342603939.\n",
      "2025/06/20 20:35:11 WARNING mlflow.models.model: Model logged without a signature and input example. Please set `input_example` parameter when logging the model to auto infer the model signature.\n",
      "2025/06/20 20:35:15 INFO mlflow.tracking._tracking_service.client: 🏃 View run Imbalance_smote_enn_RandomForest_TFIDF_Trigrams at: http://ec2-13-127-25-124.ap-south-1.compute.amazonaws.com:5000/#/experiments/526835002342603939/runs/05e4484c1b1345178d353c5ed0aeec38.\n",
      "2025/06/20 20:35:15 INFO mlflow.tracking._tracking_service.client: 🧪 View experiment at: http://ec2-13-127-25-124.ap-south-1.compute.amazonaws.com:5000/#/experiments/526835002342603939.\n"
     ]
    }
   ],
   "source": [
    "\n",
    "# Step 7: Run experiments for different imbalance methods\n",
    "imbalance_methods = ['class_weights', 'oversampling', 'adasyn', 'undersampling', 'smote_enn']\n",
    "\n",
    "for method in imbalance_methods:\n",
    "    run_imbalanced_experiment(method)"
   ]
  }
 ],
 "metadata": {
  "kernelspec": {
   "display_name": "yt-insights-ch-plugin",
   "language": "python",
   "name": "python3"
  },
  "language_info": {
   "codemirror_mode": {
    "name": "ipython",
    "version": 3
   },
   "file_extension": ".py",
   "mimetype": "text/x-python",
   "name": "python",
   "nbconvert_exporter": "python",
   "pygments_lexer": "ipython3",
   "version": "3.11.13"
  }
 },
 "nbformat": 4,
 "nbformat_minor": 5
}
