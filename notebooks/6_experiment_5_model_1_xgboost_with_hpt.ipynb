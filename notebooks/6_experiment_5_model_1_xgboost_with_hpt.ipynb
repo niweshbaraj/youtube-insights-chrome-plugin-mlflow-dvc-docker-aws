{
  "cells": [
    {
      "cell_type": "code",
      "execution_count": 1,
      "metadata": {
        "id": "vch7jvzg-O9C"
      },
      "outputs": [],
      "source": [
        "import mlflow"
      ]
    },
    {
      "cell_type": "code",
      "execution_count": 2,
      "metadata": {},
      "outputs": [],
      "source": [
        "# Set up the MLflow tracking server\n",
        "mlflow.set_tracking_uri(\"http://ec2-13-127-25-124.ap-south-1.compute.amazonaws.com:5000/\")"
      ]
    },
    {
      "cell_type": "code",
      "execution_count": 4,
      "metadata": {
        "colab": {
          "base_uri": "https://localhost:8080/"
        },
        "id": "4aPGvuI7-Yu_",
        "outputId": "3dce621e-5886-4278-f010-b60ce2a8c98a"
      },
      "outputs": [
        {
          "name": "stderr",
          "output_type": "stream",
          "text": [
            "2025/06/20 20:59:23 INFO mlflow.tracking.fluent: Experiment with name 'Exp 5 - ML Algos with HP Tuning' does not exist. Creating a new experiment.\n"
          ]
        },
        {
          "data": {
            "text/plain": [
              "<Experiment: artifact_location='s3://youtube-insights-chrome-plugin-mlflow-bucket/547399241317235994', creation_time=1750433363378, experiment_id='547399241317235994', last_update_time=1750433363378, lifecycle_stage='active', name='Exp 5 - ML Algos with HP Tuning', tags={}>"
            ]
          },
          "execution_count": 4,
          "metadata": {},
          "output_type": "execute_result"
        }
      ],
      "source": [
        "# Set or create an experiment\n",
        "mlflow.set_experiment(\"Exp 5 - ML Algos with HP Tuning\")"
      ]
    },
    {
      "cell_type": "code",
      "execution_count": 6,
      "metadata": {},
      "outputs": [
        {
          "name": "stdout",
          "output_type": "stream",
          "text": [
            "Collecting optuna\n",
            "  Downloading optuna-4.4.0-py3-none-any.whl.metadata (17 kB)\n",
            "Requirement already satisfied: alembic>=1.5.0 in c:\\programdata\\anaconda3\\envs\\yt-insights-ch-plugin\\lib\\site-packages (from optuna) (1.16.2)\n",
            "Collecting colorlog (from optuna)\n",
            "  Downloading colorlog-6.9.0-py3-none-any.whl.metadata (10 kB)\n",
            "Requirement already satisfied: numpy in c:\\programdata\\anaconda3\\envs\\yt-insights-ch-plugin\\lib\\site-packages (from optuna) (2.1.2)\n",
            "Requirement already satisfied: packaging>=20.0 in c:\\programdata\\anaconda3\\envs\\yt-insights-ch-plugin\\lib\\site-packages (from optuna) (24.2)\n",
            "Requirement already satisfied: sqlalchemy>=1.4.2 in c:\\programdata\\anaconda3\\envs\\yt-insights-ch-plugin\\lib\\site-packages (from optuna) (2.0.41)\n",
            "Requirement already satisfied: tqdm in c:\\programdata\\anaconda3\\envs\\yt-insights-ch-plugin\\lib\\site-packages (from optuna) (4.67.1)\n",
            "Requirement already satisfied: PyYAML in c:\\programdata\\anaconda3\\envs\\yt-insights-ch-plugin\\lib\\site-packages (from optuna) (6.0.2)\n",
            "Requirement already satisfied: Mako in c:\\programdata\\anaconda3\\envs\\yt-insights-ch-plugin\\lib\\site-packages (from alembic>=1.5.0->optuna) (1.3.10)\n",
            "Requirement already satisfied: typing-extensions>=4.12 in c:\\programdata\\anaconda3\\envs\\yt-insights-ch-plugin\\lib\\site-packages (from alembic>=1.5.0->optuna) (4.14.0)\n",
            "Requirement already satisfied: greenlet>=1 in c:\\programdata\\anaconda3\\envs\\yt-insights-ch-plugin\\lib\\site-packages (from sqlalchemy>=1.4.2->optuna) (3.2.3)\n",
            "Requirement already satisfied: colorama in c:\\programdata\\anaconda3\\envs\\yt-insights-ch-plugin\\lib\\site-packages (from colorlog->optuna) (0.4.6)\n",
            "Requirement already satisfied: MarkupSafe>=0.9.2 in c:\\programdata\\anaconda3\\envs\\yt-insights-ch-plugin\\lib\\site-packages (from Mako->alembic>=1.5.0->optuna) (3.0.2)\n",
            "Downloading optuna-4.4.0-py3-none-any.whl (395 kB)\n",
            "Downloading colorlog-6.9.0-py3-none-any.whl (11 kB)\n",
            "Installing collected packages: colorlog, optuna\n",
            "\n",
            "   -------------------- ------------------- 1/2 [optuna]\n",
            "   -------------------- ------------------- 1/2 [optuna]\n",
            "   -------------------- ------------------- 1/2 [optuna]\n",
            "   ---------------------------------------- 2/2 [optuna]\n",
            "\n",
            "Successfully installed colorlog-6.9.0 optuna-4.4.0\n"
          ]
        }
      ],
      "source": [
        "!pip install optuna"
      ]
    },
    {
      "cell_type": "code",
      "execution_count": 8,
      "metadata": {},
      "outputs": [
        {
          "name": "stdout",
          "output_type": "stream",
          "text": [
            "Collecting xgboost\n",
            "  Downloading xgboost-3.0.2-py3-none-win_amd64.whl.metadata (2.1 kB)\n",
            "Requirement already satisfied: numpy in c:\\programdata\\anaconda3\\envs\\yt-insights-ch-plugin\\lib\\site-packages (from xgboost) (2.1.2)\n",
            "Requirement already satisfied: scipy in c:\\programdata\\anaconda3\\envs\\yt-insights-ch-plugin\\lib\\site-packages (from xgboost) (1.15.3)\n",
            "Downloading xgboost-3.0.2-py3-none-win_amd64.whl (150.0 MB)\n",
            "   ---------------------------------------- 0.0/150.0 MB ? eta -:--:--\n",
            "   ---------------------------------------- 1.0/150.0 MB 8.4 MB/s eta 0:00:18\n",
            "    --------------------------------------- 3.1/150.0 MB 10.8 MB/s eta 0:00:14\n",
            "   - -------------------------------------- 4.5/150.0 MB 8.6 MB/s eta 0:00:17\n",
            "   - -------------------------------------- 6.0/150.0 MB 8.0 MB/s eta 0:00:18\n",
            "   - -------------------------------------- 6.8/150.0 MB 7.4 MB/s eta 0:00:20\n",
            "   -- ------------------------------------- 8.1/150.0 MB 7.1 MB/s eta 0:00:21\n",
            "   -- ------------------------------------- 9.2/150.0 MB 6.8 MB/s eta 0:00:21\n",
            "   -- ------------------------------------- 9.7/150.0 MB 6.2 MB/s eta 0:00:23\n",
            "   -- ------------------------------------- 10.0/150.0 MB 5.8 MB/s eta 0:00:25\n",
            "   -- ------------------------------------- 10.5/150.0 MB 5.3 MB/s eta 0:00:27\n",
            "   -- ------------------------------------- 10.7/150.0 MB 5.1 MB/s eta 0:00:28\n",
            "   --- ------------------------------------ 11.3/150.0 MB 4.8 MB/s eta 0:00:30\n",
            "   --- ------------------------------------ 11.5/150.0 MB 4.6 MB/s eta 0:00:31\n",
            "   --- ------------------------------------ 12.1/150.0 MB 4.4 MB/s eta 0:00:32\n",
            "   --- ------------------------------------ 12.6/150.0 MB 4.3 MB/s eta 0:00:33\n",
            "   --- ------------------------------------ 13.1/150.0 MB 4.2 MB/s eta 0:00:33\n",
            "   --- ------------------------------------ 13.6/150.0 MB 4.1 MB/s eta 0:00:34\n",
            "   --- ------------------------------------ 14.4/150.0 MB 4.0 MB/s eta 0:00:35\n",
            "   --- ------------------------------------ 14.9/150.0 MB 3.9 MB/s eta 0:00:35\n",
            "   ---- ----------------------------------- 15.5/150.0 MB 3.9 MB/s eta 0:00:35\n",
            "   ---- ----------------------------------- 16.3/150.0 MB 3.8 MB/s eta 0:00:36\n",
            "   ---- ----------------------------------- 16.8/150.0 MB 3.8 MB/s eta 0:00:36\n",
            "   ---- ----------------------------------- 17.6/150.0 MB 3.8 MB/s eta 0:00:36\n",
            "   ---- ----------------------------------- 18.1/150.0 MB 3.8 MB/s eta 0:00:36\n",
            "   ----- ---------------------------------- 18.9/150.0 MB 3.7 MB/s eta 0:00:36\n",
            "   ----- ---------------------------------- 19.7/150.0 MB 3.7 MB/s eta 0:00:35\n",
            "   ----- ---------------------------------- 20.4/150.0 MB 3.7 MB/s eta 0:00:35\n",
            "   ----- ---------------------------------- 21.2/150.0 MB 3.7 MB/s eta 0:00:35\n",
            "   ----- ---------------------------------- 22.0/150.0 MB 3.7 MB/s eta 0:00:35\n",
            "   ------ --------------------------------- 22.5/150.0 MB 3.7 MB/s eta 0:00:35\n",
            "   ------ --------------------------------- 23.3/150.0 MB 3.7 MB/s eta 0:00:35\n",
            "   ------ --------------------------------- 24.4/150.0 MB 3.7 MB/s eta 0:00:34\n",
            "   ------ --------------------------------- 25.2/150.0 MB 3.7 MB/s eta 0:00:34\n",
            "   ------ --------------------------------- 26.0/150.0 MB 3.8 MB/s eta 0:00:33\n",
            "   ------- -------------------------------- 27.0/150.0 MB 3.8 MB/s eta 0:00:33\n",
            "   ------- -------------------------------- 28.0/150.0 MB 3.8 MB/s eta 0:00:32\n",
            "   ------- -------------------------------- 28.8/150.0 MB 3.8 MB/s eta 0:00:32\n",
            "   ------- -------------------------------- 29.9/150.0 MB 3.9 MB/s eta 0:00:32\n",
            "   -------- ------------------------------- 30.9/150.0 MB 3.9 MB/s eta 0:00:31\n",
            "   -------- ------------------------------- 32.0/150.0 MB 3.9 MB/s eta 0:00:31\n",
            "   -------- ------------------------------- 33.0/150.0 MB 3.9 MB/s eta 0:00:30\n",
            "   --------- ------------------------------ 34.1/150.0 MB 4.0 MB/s eta 0:00:30\n",
            "   --------- ------------------------------ 35.1/150.0 MB 4.0 MB/s eta 0:00:29\n",
            "   --------- ------------------------------ 36.2/150.0 MB 4.0 MB/s eta 0:00:29\n",
            "   --------- ------------------------------ 37.2/150.0 MB 4.1 MB/s eta 0:00:28\n",
            "   ---------- ----------------------------- 38.3/150.0 MB 4.1 MB/s eta 0:00:28\n",
            "   ---------- ----------------------------- 39.6/150.0 MB 4.1 MB/s eta 0:00:27\n",
            "   ---------- ----------------------------- 40.9/150.0 MB 4.2 MB/s eta 0:00:27\n",
            "   ----------- ---------------------------- 41.9/150.0 MB 4.2 MB/s eta 0:00:26\n",
            "   ----------- ---------------------------- 43.3/150.0 MB 4.2 MB/s eta 0:00:26\n",
            "   ----------- ---------------------------- 44.6/150.0 MB 4.3 MB/s eta 0:00:25\n",
            "   ------------ --------------------------- 45.6/150.0 MB 4.3 MB/s eta 0:00:25\n",
            "   ------------ --------------------------- 46.7/150.0 MB 4.3 MB/s eta 0:00:24\n",
            "   ------------ --------------------------- 48.0/150.0 MB 4.3 MB/s eta 0:00:24\n",
            "   ------------ --------------------------- 48.5/150.0 MB 4.3 MB/s eta 0:00:24\n",
            "   ------------- -------------------------- 49.3/150.0 MB 4.3 MB/s eta 0:00:24\n",
            "   ------------- -------------------------- 49.8/150.0 MB 4.3 MB/s eta 0:00:24\n",
            "   ------------- -------------------------- 50.6/150.0 MB 4.3 MB/s eta 0:00:24\n",
            "   ------------- -------------------------- 51.4/150.0 MB 4.3 MB/s eta 0:00:24\n",
            "   ------------- -------------------------- 52.2/150.0 MB 4.3 MB/s eta 0:00:23\n",
            "   -------------- ------------------------- 53.0/150.0 MB 4.3 MB/s eta 0:00:23\n",
            "   -------------- ------------------------- 53.5/150.0 MB 4.2 MB/s eta 0:00:23\n",
            "   -------------- ------------------------- 54.3/150.0 MB 4.2 MB/s eta 0:00:23\n",
            "   -------------- ------------------------- 55.3/150.0 MB 4.2 MB/s eta 0:00:23\n",
            "   -------------- ------------------------- 56.1/150.0 MB 4.2 MB/s eta 0:00:23\n",
            "   --------------- ------------------------ 56.9/150.0 MB 4.2 MB/s eta 0:00:22\n",
            "   --------------- ------------------------ 57.9/150.0 MB 4.2 MB/s eta 0:00:22\n",
            "   --------------- ------------------------ 58.7/150.0 MB 4.2 MB/s eta 0:00:22\n",
            "   --------------- ------------------------ 59.8/150.0 MB 4.3 MB/s eta 0:00:22\n",
            "   ---------------- ----------------------- 60.8/150.0 MB 4.3 MB/s eta 0:00:21\n",
            "   ---------------- ----------------------- 61.6/150.0 MB 4.3 MB/s eta 0:00:21\n",
            "   ---------------- ----------------------- 62.7/150.0 MB 4.3 MB/s eta 0:00:21\n",
            "   ---------------- ----------------------- 63.7/150.0 MB 4.3 MB/s eta 0:00:21\n",
            "   ----------------- ---------------------- 64.7/150.0 MB 4.3 MB/s eta 0:00:20\n",
            "   ----------------- ---------------------- 65.8/150.0 MB 4.3 MB/s eta 0:00:20\n",
            "   ----------------- ---------------------- 66.8/150.0 MB 4.3 MB/s eta 0:00:20\n",
            "   ------------------ --------------------- 67.9/150.0 MB 4.3 MB/s eta 0:00:19\n",
            "   ------------------ --------------------- 69.2/150.0 MB 4.3 MB/s eta 0:00:19\n",
            "   ------------------ --------------------- 70.3/150.0 MB 4.4 MB/s eta 0:00:19\n",
            "   ------------------- -------------------- 71.3/150.0 MB 4.4 MB/s eta 0:00:18\n",
            "   ------------------- -------------------- 72.6/150.0 MB 4.4 MB/s eta 0:00:18\n",
            "   ------------------- -------------------- 73.7/150.0 MB 4.4 MB/s eta 0:00:18\n",
            "   ------------------- -------------------- 75.0/150.0 MB 4.4 MB/s eta 0:00:17\n",
            "   -------------------- ------------------- 76.0/150.0 MB 4.4 MB/s eta 0:00:17\n",
            "   -------------------- ------------------- 76.8/150.0 MB 4.4 MB/s eta 0:00:17\n",
            "   -------------------- ------------------- 77.3/150.0 MB 4.4 MB/s eta 0:00:17\n",
            "   -------------------- ------------------- 77.9/150.0 MB 4.4 MB/s eta 0:00:17\n",
            "   -------------------- ------------------- 78.4/150.0 MB 4.4 MB/s eta 0:00:17\n",
            "   --------------------- ------------------ 78.9/150.0 MB 4.3 MB/s eta 0:00:17\n",
            "   --------------------- ------------------ 79.4/150.0 MB 4.3 MB/s eta 0:00:17\n",
            "   --------------------- ------------------ 80.0/150.0 MB 4.3 MB/s eta 0:00:17\n",
            "   --------------------- ------------------ 80.5/150.0 MB 4.3 MB/s eta 0:00:17\n",
            "   --------------------- ------------------ 81.0/150.0 MB 4.3 MB/s eta 0:00:17\n",
            "   --------------------- ------------------ 81.5/150.0 MB 4.3 MB/s eta 0:00:17\n",
            "   --------------------- ------------------ 82.1/150.0 MB 4.2 MB/s eta 0:00:16\n",
            "   ---------------------- ----------------- 82.8/150.0 MB 4.2 MB/s eta 0:00:16\n",
            "   ---------------------- ----------------- 83.4/150.0 MB 4.2 MB/s eta 0:00:16\n",
            "   ---------------------- ----------------- 84.1/150.0 MB 4.2 MB/s eta 0:00:16\n",
            "   ---------------------- ----------------- 84.9/150.0 MB 4.2 MB/s eta 0:00:16\n",
            "   ---------------------- ----------------- 85.7/150.0 MB 4.2 MB/s eta 0:00:16\n",
            "   ----------------------- ---------------- 86.5/150.0 MB 4.2 MB/s eta 0:00:16\n",
            "   ----------------------- ---------------- 87.3/150.0 MB 4.2 MB/s eta 0:00:15\n",
            "   ----------------------- ---------------- 88.1/150.0 MB 4.2 MB/s eta 0:00:15\n",
            "   ----------------------- ---------------- 88.9/150.0 MB 4.2 MB/s eta 0:00:15\n",
            "   ----------------------- ---------------- 89.7/150.0 MB 4.2 MB/s eta 0:00:15\n",
            "   ------------------------ --------------- 90.4/150.0 MB 4.2 MB/s eta 0:00:15\n",
            "   ------------------------ --------------- 91.5/150.0 MB 4.2 MB/s eta 0:00:14\n",
            "   ------------------------ --------------- 92.3/150.0 MB 4.2 MB/s eta 0:00:14\n",
            "   ------------------------ --------------- 93.1/150.0 MB 4.2 MB/s eta 0:00:14\n",
            "   ------------------------- -------------- 94.1/150.0 MB 4.2 MB/s eta 0:00:14\n",
            "   ------------------------- -------------- 95.2/150.0 MB 4.2 MB/s eta 0:00:14\n",
            "   ------------------------- -------------- 95.9/150.0 MB 4.2 MB/s eta 0:00:13\n",
            "   ------------------------- -------------- 97.0/150.0 MB 4.2 MB/s eta 0:00:13\n",
            "   -------------------------- ------------- 98.0/150.0 MB 4.2 MB/s eta 0:00:13\n",
            "   -------------------------- ------------- 99.1/150.0 MB 4.2 MB/s eta 0:00:13\n",
            "   -------------------------- ------------- 100.1/150.0 MB 4.2 MB/s eta 0:00:12\n",
            "   -------------------------- ------------- 100.9/150.0 MB 4.2 MB/s eta 0:00:12\n",
            "   --------------------------- ------------ 101.7/150.0 MB 4.2 MB/s eta 0:00:12\n",
            "   --------------------------- ------------ 102.2/150.0 MB 4.2 MB/s eta 0:00:12\n",
            "   --------------------------- ------------ 103.3/150.0 MB 4.2 MB/s eta 0:00:12\n",
            "   --------------------------- ------------ 104.1/150.0 MB 4.2 MB/s eta 0:00:11\n",
            "   ---------------------------- ----------- 105.1/150.0 MB 4.2 MB/s eta 0:00:11\n",
            "   ---------------------------- ----------- 105.9/150.0 MB 4.2 MB/s eta 0:00:11\n",
            "   ---------------------------- ----------- 107.0/150.0 MB 4.2 MB/s eta 0:00:11\n",
            "   ---------------------------- ----------- 108.0/150.0 MB 4.2 MB/s eta 0:00:10\n",
            "   ----------------------------- ---------- 108.8/150.0 MB 4.2 MB/s eta 0:00:10\n",
            "   ----------------------------- ---------- 109.8/150.0 MB 4.2 MB/s eta 0:00:10\n",
            "   ----------------------------- ---------- 110.9/150.0 MB 4.2 MB/s eta 0:00:10\n",
            "   ----------------------------- ---------- 111.9/150.0 MB 4.3 MB/s eta 0:00:09\n",
            "   ------------------------------ --------- 113.0/150.0 MB 4.3 MB/s eta 0:00:09\n",
            "   ------------------------------ --------- 114.0/150.0 MB 4.3 MB/s eta 0:00:09\n",
            "   ------------------------------ --------- 115.1/150.0 MB 4.3 MB/s eta 0:00:09\n",
            "   ------------------------------ --------- 116.1/150.0 MB 4.3 MB/s eta 0:00:08\n",
            "   ------------------------------- -------- 117.2/150.0 MB 4.3 MB/s eta 0:00:08\n",
            "   ------------------------------- -------- 118.5/150.0 MB 4.3 MB/s eta 0:00:08\n",
            "   ------------------------------- -------- 119.5/150.0 MB 4.3 MB/s eta 0:00:08\n",
            "   -------------------------------- ------- 120.6/150.0 MB 4.3 MB/s eta 0:00:07\n",
            "   -------------------------------- ------- 121.9/150.0 MB 4.3 MB/s eta 0:00:07\n",
            "   -------------------------------- ------- 122.9/150.0 MB 4.3 MB/s eta 0:00:07\n",
            "   --------------------------------- ------ 124.3/150.0 MB 4.3 MB/s eta 0:00:06\n",
            "   --------------------------------- ------ 124.8/150.0 MB 4.3 MB/s eta 0:00:06\n",
            "   --------------------------------- ------ 125.3/150.0 MB 4.3 MB/s eta 0:00:06\n",
            "   --------------------------------- ------ 125.6/150.0 MB 4.3 MB/s eta 0:00:06\n",
            "   --------------------------------- ------ 126.1/150.0 MB 4.3 MB/s eta 0:00:06\n",
            "   --------------------------------- ------ 126.4/150.0 MB 4.3 MB/s eta 0:00:06\n",
            "   --------------------------------- ------ 126.6/150.0 MB 4.3 MB/s eta 0:00:06\n",
            "   --------------------------------- ------ 127.1/150.0 MB 4.2 MB/s eta 0:00:06\n",
            "   --------------------------------- ------ 127.4/150.0 MB 4.2 MB/s eta 0:00:06\n",
            "   ---------------------------------- ----- 127.9/150.0 MB 4.2 MB/s eta 0:00:06\n",
            "   ---------------------------------- ----- 128.5/150.0 MB 4.1 MB/s eta 0:00:06\n",
            "   ---------------------------------- ----- 129.0/150.0 MB 4.1 MB/s eta 0:00:06\n",
            "   ---------------------------------- ----- 129.5/150.0 MB 4.1 MB/s eta 0:00:06\n",
            "   ---------------------------------- ----- 130.0/150.0 MB 4.1 MB/s eta 0:00:05\n",
            "   ---------------------------------- ----- 130.5/150.0 MB 4.0 MB/s eta 0:00:05\n",
            "   ---------------------------------- ----- 131.1/150.0 MB 4.1 MB/s eta 0:00:05\n",
            "   ----------------------------------- ---- 131.6/150.0 MB 4.1 MB/s eta 0:00:05\n",
            "   ----------------------------------- ---- 132.1/150.0 MB 4.1 MB/s eta 0:00:05\n",
            "   ----------------------------------- ---- 132.9/150.0 MB 4.1 MB/s eta 0:00:05\n",
            "   ----------------------------------- ---- 133.7/150.0 MB 4.1 MB/s eta 0:00:04\n",
            "   ----------------------------------- ---- 134.2/150.0 MB 4.1 MB/s eta 0:00:04\n",
            "   ------------------------------------ --- 135.0/150.0 MB 4.1 MB/s eta 0:00:04\n",
            "   ------------------------------------ --- 135.5/150.0 MB 4.1 MB/s eta 0:00:04\n",
            "   ------------------------------------ --- 136.3/150.0 MB 4.1 MB/s eta 0:00:04\n",
            "   ------------------------------------ --- 137.1/150.0 MB 4.1 MB/s eta 0:00:04\n",
            "   ------------------------------------ --- 137.9/150.0 MB 4.1 MB/s eta 0:00:03\n",
            "   ------------------------------------ --- 138.7/150.0 MB 4.1 MB/s eta 0:00:03\n",
            "   ------------------------------------- -- 139.5/150.0 MB 4.1 MB/s eta 0:00:03\n",
            "   ------------------------------------- -- 140.2/150.0 MB 4.1 MB/s eta 0:00:03\n",
            "   ------------------------------------- -- 141.3/150.0 MB 4.1 MB/s eta 0:00:03\n",
            "   ------------------------------------- -- 142.1/150.0 MB 4.1 MB/s eta 0:00:02\n",
            "   -------------------------------------- - 142.9/150.0 MB 4.2 MB/s eta 0:00:02\n",
            "   -------------------------------------- - 143.9/150.0 MB 4.2 MB/s eta 0:00:02\n",
            "   -------------------------------------- - 144.7/150.0 MB 4.2 MB/s eta 0:00:02\n",
            "   -------------------------------------- - 145.8/150.0 MB 4.2 MB/s eta 0:00:02\n",
            "   ---------------------------------------  146.8/150.0 MB 4.2 MB/s eta 0:00:01\n",
            "   ---------------------------------------  147.8/150.0 MB 4.2 MB/s eta 0:00:01\n",
            "   ---------------------------------------  148.9/150.0 MB 4.2 MB/s eta 0:00:01\n",
            "   ---------------------------------------  149.9/150.0 MB 4.2 MB/s eta 0:00:01\n",
            "   ---------------------------------------- 150.0/150.0 MB 4.2 MB/s eta 0:00:00\n",
            "Installing collected packages: xgboost\n",
            "Successfully installed xgboost-3.0.2\n"
          ]
        }
      ],
      "source": [
        "!pip install xgboost"
      ]
    },
    {
      "cell_type": "code",
      "execution_count": 9,
      "metadata": {
        "colab": {
          "base_uri": "https://localhost:8080/"
        },
        "id": "CNoYRU5W-gdD",
        "outputId": "c3dca95b-f9f6-439d-d3b6-e5abb0f34fbe"
      },
      "outputs": [],
      "source": [
        "import optuna\n",
        "import mlflow\n",
        "import mlflow.sklearn\n",
        "from sklearn.model_selection import train_test_split\n",
        "from sklearn.metrics import accuracy_score, classification_report\n",
        "from sklearn.feature_extraction.text import TfidfVectorizer\n",
        "from xgboost import XGBClassifier\n",
        "from imblearn.over_sampling import SMOTE\n",
        "import matplotlib.pyplot as plt\n",
        "import seaborn as sns\n",
        "import pandas as pd"
      ]
    },
    {
      "cell_type": "code",
      "execution_count": 10,
      "metadata": {
        "colab": {
          "base_uri": "https://localhost:8080/"
        },
        "id": "BhAQ53ko-los",
        "outputId": "fa282c73-bb95-4d60-97f4-aa41001a3933"
      },
      "outputs": [
        {
          "data": {
            "text/plain": [
              "(36662, 2)"
            ]
          },
          "execution_count": 10,
          "metadata": {},
          "output_type": "execute_result"
        }
      ],
      "source": [
        "df = pd.read_csv('reddit_preprocessing.csv').dropna(subset=['clean_comment'])\n",
        "df.shape"
      ]
    },
    {
      "cell_type": "code",
      "execution_count": 11,
      "metadata": {
        "colab": {
          "base_uri": "https://localhost:8080/",
          "height": 897
        },
        "id": "9c1OkYCN-uUw",
        "outputId": "d19bf22e-f4fb-4dff-80a9-49e9629268a1"
      },
      "outputs": [],
      "source": [
        "# Step 1: Remap the class labels from [-1, 0, 1] to [2, 0, 1]\n",
        "df['category'] = df['category'].map({-1: 2, 0: 0, 1: 1})\n",
        "\n",
        "# Step 2: Remove rows where the target labels (category) are NaN\n",
        "df = df.dropna(subset=['category'])\n",
        "\n",
        "# Step 3: Define ngram_range and max_features\n",
        "ngram_range = (1, 3)  # Trigram setting\n",
        "max_features = 10000  # Set max_features to 1000 for TF-IDF\n",
        "\n",
        "# Step 4: Train-test split before vectorization and resampling\n",
        "X_train, X_test, y_train, y_test = train_test_split(df['clean_comment'], df['category'], test_size=0.2, random_state=42, stratify=df['category'])\n",
        "\n",
        "# Step 5: Vectorization using TF-IDF, fit on training data only\n",
        "vectorizer = TfidfVectorizer(ngram_range=ngram_range, max_features=max_features)\n",
        "X_train_vec = vectorizer.fit_transform(X_train)  # Fit on training data\n",
        "X_test_vec = vectorizer.transform(X_test)  # Transform test data\n",
        "\n",
        "smote = SMOTE(random_state=42)\n",
        "X_train_vec, y_train = smote.fit_resample(X_train_vec, y_train)"
      ]
    },
    {
      "cell_type": "code",
      "execution_count": 12,
      "metadata": {
        "id": "d7muRs3BED3o"
      },
      "outputs": [],
      "source": [
        "# Function to log results in MLflow\n",
        "def log_mlflow(model_name, model, X_train, X_test, y_train, y_test):\n",
        "    with mlflow.start_run():\n",
        "        # Log model type\n",
        "        mlflow.set_tag(\"mlflow.runName\", f\"{model_name}_SMOTE_TFIDF_Trigrams\")\n",
        "        mlflow.set_tag(\"experiment_type\", \"algorithm_comparison\")\n",
        "\n",
        "        # Log algorithm name as a parameter\n",
        "        mlflow.log_param(\"algo_name\", model_name)\n",
        "\n",
        "        # Train model\n",
        "        model.fit(X_train, y_train)\n",
        "        y_pred = model.predict(X_test)\n",
        "\n",
        "        # Log accuracy\n",
        "        accuracy = accuracy_score(y_test, y_pred)\n",
        "        mlflow.log_metric(\"accuracy\", accuracy)\n",
        "\n",
        "        # Log classification report\n",
        "        classification_rep = classification_report(y_test, y_pred, output_dict=True)\n",
        "        for label, metrics in classification_rep.items():\n",
        "            if isinstance(metrics, dict):\n",
        "                for metric, value in metrics.items():\n",
        "                    mlflow.log_metric(f\"{label}_{metric}\", value)\n",
        "\n",
        "        # Log the model\n",
        "        mlflow.sklearn.log_model(model, f\"{model_name}_model\")"
      ]
    },
    {
      "cell_type": "code",
      "execution_count": 13,
      "metadata": {},
      "outputs": [],
      "source": [
        "# Step 6: Optuna objective function for XGBoost\n",
        "def objective_xgboost(trial):\n",
        "    n_estimators = trial.suggest_int('n_estimators', 50, 300)\n",
        "    learning_rate = trial.suggest_float('learning_rate', 1e-4, 1e-1, log=True)\n",
        "    max_depth = trial.suggest_int('max_depth', 3, 10)\n",
        "\n",
        "    model = XGBClassifier(n_estimators=n_estimators, learning_rate=learning_rate, max_depth=max_depth, random_state=42)\n",
        "    return accuracy_score(y_test, model.fit(X_train_vec, y_train).predict(X_test_vec))"
      ]
    },
    {
      "cell_type": "code",
      "execution_count": 14,
      "metadata": {},
      "outputs": [],
      "source": [
        "# Step 7: Run Optuna for XGBoost, log the best model only\n",
        "def run_optuna_experiment():\n",
        "    study = optuna.create_study(direction=\"maximize\")\n",
        "    study.optimize(objective_xgboost, n_trials=30)\n",
        "\n",
        "    # Get the best parameters and log only the best model\n",
        "    best_params = study.best_params\n",
        "    best_model = XGBClassifier(n_estimators=best_params['n_estimators'], learning_rate=best_params['learning_rate'], max_depth=best_params['max_depth'], random_state=42)\n",
        "\n",
        "    # Log the best model with MLflow, passing the algo_name as \"xgboost\"\n",
        "    log_mlflow(\"XGBoost\", best_model, X_train_vec, X_test_vec, y_train, y_test)"
      ]
    },
    {
      "cell_type": "code",
      "execution_count": 15,
      "metadata": {},
      "outputs": [
        {
          "name": "stderr",
          "output_type": "stream",
          "text": [
            "[I 2025-06-20 21:07:43,461] A new study created in memory with name: no-name-1ca7e3fb-d346-4db5-aadf-2ab7340f0259\n",
            "[I 2025-06-20 21:08:18,944] Trial 0 finished with value: 0.6172098731760535 and parameters: {'n_estimators': 263, 'learning_rate': 0.010389856975126975, 'max_depth': 3}. Best is trial 0 with value: 0.6172098731760535.\n",
            "[I 2025-06-20 21:08:45,494] Trial 1 finished with value: 0.5236601663711987 and parameters: {'n_estimators': 133, 'learning_rate': 0.0002139044343957055, 'max_depth': 4}. Best is trial 0 with value: 0.6172098731760535.\n",
            "[I 2025-06-20 21:10:03,912] Trial 2 finished with value: 0.6780308195827083 and parameters: {'n_estimators': 79, 'learning_rate': 0.02847570936037148, 'max_depth': 9}. Best is trial 2 with value: 0.6780308195827083.\n",
            "[I 2025-06-20 21:12:55,060] Trial 3 finished with value: 0.6127096686213009 and parameters: {'n_estimators': 133, 'learning_rate': 0.00015871120532059946, 'max_depth': 10}. Best is trial 2 with value: 0.6780308195827083.\n",
            "[I 2025-06-20 21:14:12,905] Trial 4 finished with value: 0.5989363152870585 and parameters: {'n_estimators': 218, 'learning_rate': 0.004036313653275735, 'max_depth': 5}. Best is trial 2 with value: 0.6780308195827083.\n",
            "[I 2025-06-20 21:14:37,905] Trial 5 finished with value: 0.6354834310650485 and parameters: {'n_estimators': 72, 'learning_rate': 0.0269435969607846, 'max_depth': 5}. Best is trial 2 with value: 0.6780308195827083.\n",
            "[I 2025-06-20 21:16:27,855] Trial 6 finished with value: 0.7344879312696032 and parameters: {'n_estimators': 123, 'learning_rate': 0.0481872842377584, 'max_depth': 9}. Best is trial 6 with value: 0.7344879312696032.\n",
            "[I 2025-06-20 21:16:51,964] Trial 7 finished with value: 0.5415246147552162 and parameters: {'n_estimators': 94, 'learning_rate': 0.0017648778561658626, 'max_depth': 4}. Best is trial 6 with value: 0.7344879312696032.\n",
            "[I 2025-06-20 21:19:40,597] Trial 8 finished with value: 0.6748943133778809 and parameters: {'n_estimators': 253, 'learning_rate': 0.010683049805583936, 'max_depth': 7}. Best is trial 6 with value: 0.7344879312696032.\n",
            "[I 2025-06-20 21:21:10,202] Trial 9 finished with value: 0.7639438156279831 and parameters: {'n_estimators': 115, 'learning_rate': 0.0890184578962532, 'max_depth': 9}. Best is trial 9 with value: 0.7639438156279831.\n",
            "[I 2025-06-20 21:22:33,786] Trial 10 finished with value: 0.7766262102822855 and parameters: {'n_estimators': 182, 'learning_rate': 0.0910915209492543, 'max_depth': 7}. Best is trial 10 with value: 0.7766262102822855.\n",
            "[I 2025-06-20 21:23:48,931] Trial 11 finished with value: 0.7812627846720306 and parameters: {'n_estimators': 182, 'learning_rate': 0.09942889596507812, 'max_depth': 7}. Best is trial 11 with value: 0.7812627846720306.\n",
            "[I 2025-06-20 21:25:03,888] Trial 12 finished with value: 0.7778535387972181 and parameters: {'n_estimators': 182, 'learning_rate': 0.09472840726890544, 'max_depth': 7}. Best is trial 11 with value: 0.7812627846720306.\n",
            "[I 2025-06-20 21:26:39,429] Trial 13 finished with value: 0.5581617346243011 and parameters: {'n_estimators': 180, 'learning_rate': 0.0006983452555480116, 'max_depth': 6}. Best is trial 11 with value: 0.7812627846720306.\n",
            "[I 2025-06-20 21:30:00,642] Trial 14 finished with value: 0.6772126005727533 and parameters: {'n_estimators': 219, 'learning_rate': 0.011349830786724538, 'max_depth': 8}. Best is trial 11 with value: 0.7812627846720306.\n",
            "[I 2025-06-20 21:31:49,713] Trial 15 finished with value: 0.7438974498840857 and parameters: {'n_estimators': 294, 'learning_rate': 0.038006858530375345, 'max_depth': 6}. Best is trial 11 with value: 0.7812627846720306.\n",
            "[I 2025-06-20 21:34:06,170] Trial 16 finished with value: 0.6358925405700259 and parameters: {'n_estimators': 160, 'learning_rate': 0.004925670011774825, 'max_depth': 8}. Best is trial 11 with value: 0.7812627846720306.\n",
            "[I 2025-06-20 21:36:58,174] Trial 17 finished with value: 0.5953906995772535 and parameters: {'n_estimators': 211, 'learning_rate': 0.0007296500476529321, 'max_depth': 8}. Best is trial 11 with value: 0.7812627846720306.\n",
            "[I 2025-06-20 21:38:04,209] Trial 18 finished with value: 0.7738988135824356 and parameters: {'n_estimators': 159, 'learning_rate': 0.09863815406528208, 'max_depth': 7}. Best is trial 11 with value: 0.7812627846720306.\n",
            "[I 2025-06-20 21:39:38,260] Trial 19 finished with value: 0.6777580799127233 and parameters: {'n_estimators': 201, 'learning_rate': 0.018113779359871563, 'max_depth': 6}. Best is trial 11 with value: 0.7812627846720306.\n",
            "[I 2025-06-20 21:39:56,227] Trial 20 finished with value: 0.5464339288149461 and parameters: {'n_estimators': 52, 'learning_rate': 0.0017122273415981098, 'max_depth': 5}. Best is trial 11 with value: 0.7812627846720306.\n",
            "[I 2025-06-20 21:41:23,920] Trial 21 finished with value: 0.7603981999181781 and parameters: {'n_estimators': 182, 'learning_rate': 0.07031875343999136, 'max_depth': 7}. Best is trial 11 with value: 0.7812627846720306.\n",
            "[I 2025-06-20 21:43:07,352] Trial 22 finished with value: 0.7560343651984182 and parameters: {'n_estimators': 240, 'learning_rate': 0.04985883577475224, 'max_depth': 7}. Best is trial 11 with value: 0.7812627846720306.\n",
            "[I 2025-06-20 21:44:40,315] Trial 23 finished with value: 0.7493522432837856 and parameters: {'n_estimators': 156, 'learning_rate': 0.058284682522392876, 'max_depth': 8}. Best is trial 11 with value: 0.7812627846720306.\n",
            "[I 2025-06-20 21:46:01,296] Trial 24 finished with value: 0.6795308877676258 and parameters: {'n_estimators': 187, 'learning_rate': 0.02025000840192001, 'max_depth': 6}. Best is trial 11 with value: 0.7812627846720306.\n",
            "[I 2025-06-20 21:47:02,705] Trial 25 finished with value: 0.7700804582026456 and parameters: {'n_estimators': 150, 'learning_rate': 0.09935034823643125, 'max_depth': 7}. Best is trial 11 with value: 0.7812627846720306.\n",
            "[I 2025-06-20 21:49:33,908] Trial 26 finished with value: 0.6508932224192009 and parameters: {'n_estimators': 193, 'learning_rate': 0.006802958084382359, 'max_depth': 8}. Best is trial 11 with value: 0.7812627846720306.\n",
            "[I 2025-06-20 21:52:55,890] Trial 27 finished with value: 0.7538524478385381 and parameters: {'n_estimators': 234, 'learning_rate': 0.03387850921846499, 'max_depth': 10}. Best is trial 11 with value: 0.7812627846720306.\n",
            "[I 2025-06-20 21:54:09,768] Trial 28 finished with value: 0.6723032865130233 and parameters: {'n_estimators': 169, 'learning_rate': 0.01889207631247561, 'max_depth': 6}. Best is trial 11 with value: 0.7812627846720306.\n",
            "[I 2025-06-20 21:54:59,456] Trial 29 finished with value: 0.7407609436792582 and parameters: {'n_estimators': 284, 'learning_rate': 0.05811919316577287, 'max_depth': 4}. Best is trial 11 with value: 0.7812627846720306.\n",
            "2025/06/20 21:56:27 WARNING mlflow.models.model: Model logged without a signature and input example. Please set `input_example` parameter when logging the model to auto infer the model signature.\n",
            "2025/06/20 21:56:30 INFO mlflow.tracking._tracking_service.client: 🏃 View run XGBoost_SMOTE_TFIDF_Trigrams at: http://ec2-13-127-25-124.ap-south-1.compute.amazonaws.com:5000/#/experiments/547399241317235994/runs/79ef2d640d494676b39cb11b3dc7e5bc.\n",
            "2025/06/20 21:56:30 INFO mlflow.tracking._tracking_service.client: 🧪 View experiment at: http://ec2-13-127-25-124.ap-south-1.compute.amazonaws.com:5000/#/experiments/547399241317235994.\n"
          ]
        }
      ],
      "source": [
        "# Run the experiment for XGBoost\n",
        "run_optuna_experiment()"
      ]
    }
  ],
  "metadata": {
    "colab": {
      "provenance": []
    },
    "kernelspec": {
      "display_name": "yt-insights-ch-plugin",
      "language": "python",
      "name": "python3"
    },
    "language_info": {
      "codemirror_mode": {
        "name": "ipython",
        "version": 3
      },
      "file_extension": ".py",
      "mimetype": "text/x-python",
      "name": "python",
      "nbconvert_exporter": "python",
      "pygments_lexer": "ipython3",
      "version": "3.11.13"
    }
  },
  "nbformat": 4,
  "nbformat_minor": 0
}
