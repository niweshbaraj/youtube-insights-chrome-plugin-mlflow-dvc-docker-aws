{
  "cells": [
    {
      "cell_type": "code",
      "execution_count": 1,
      "metadata": {
        "id": "80CS9Ba8oicq"
      },
      "outputs": [],
      "source": [
        "import mlflow"
      ]
    },
    {
      "cell_type": "code",
      "execution_count": 2,
      "metadata": {},
      "outputs": [],
      "source": [
        "# Set up the MLflow tracking server\n",
        "mlflow.set_tracking_uri(\"http://ec2-13-127-25-124.ap-south-1.compute.amazonaws.com:5000/\")"
      ]
    },
    {
      "cell_type": "code",
      "execution_count": 3,
      "metadata": {
        "colab": {
          "base_uri": "https://localhost:8080/"
        },
        "id": "xCJNW6DZoka5",
        "outputId": "b06bf2d8-8808-481b-f93f-71fdb516f2e0"
      },
      "outputs": [
        {
          "data": {
            "text/plain": [
              "<Experiment: artifact_location='s3://youtube-insights-chrome-plugin-mlflow-bucket/547399241317235994', creation_time=1750433363378, experiment_id='547399241317235994', last_update_time=1750433363378, lifecycle_stage='active', name='Exp 5 - ML Algos with HP Tuning', tags={}>"
            ]
          },
          "execution_count": 3,
          "metadata": {},
          "output_type": "execute_result"
        }
      ],
      "source": [
        "# Set or create an experiment\n",
        "mlflow.set_experiment(\"Exp 5 - ML Algos with HP Tuning\")"
      ]
    },
    {
      "cell_type": "code",
      "execution_count": 4,
      "metadata": {
        "id": "Y-0BV-plomXS"
      },
      "outputs": [
        {
          "name": "stderr",
          "output_type": "stream",
          "text": [
            "c:\\ProgramData\\anaconda3\\envs\\yt-insights-ch-plugin\\Lib\\site-packages\\tqdm\\auto.py:21: TqdmWarning: IProgress not found. Please update jupyter and ipywidgets. See https://ipywidgets.readthedocs.io/en/stable/user_install.html\n",
            "  from .autonotebook import tqdm as notebook_tqdm\n"
          ]
        }
      ],
      "source": [
        "import pandas as pd\n",
        "from sklearn.feature_extraction.text import TfidfVectorizer\n",
        "from sklearn.model_selection import train_test_split\n",
        "from sklearn.metrics import accuracy_score, classification_report\n",
        "from sklearn.svm import SVC\n",
        "from imblearn.over_sampling import SMOTE\n",
        "import mlflow\n",
        "import mlflow.sklearn\n",
        "import optuna"
      ]
    },
    {
      "cell_type": "code",
      "execution_count": 5,
      "metadata": {
        "colab": {
          "base_uri": "https://localhost:8080/"
        },
        "id": "GoaMIwa3po8e",
        "outputId": "a799715f-357e-4569-a418-a4e66b72cf03"
      },
      "outputs": [
        {
          "data": {
            "text/plain": [
              "(36662, 2)"
            ]
          },
          "execution_count": 5,
          "metadata": {},
          "output_type": "execute_result"
        }
      ],
      "source": [
        "df = pd.read_csv('reddit_preprocessing.csv').dropna(subset=['clean_comment'])\n",
        "df.shape"
      ]
    },
    {
      "cell_type": "code",
      "execution_count": 6,
      "metadata": {
        "colab": {
          "background_save": true,
          "base_uri": "https://localhost:8080/"
        },
        "id": "3po_cHLtpviA",
        "outputId": "1787fded-2fa2-4ed2-f7ed-2669d6f60c4d"
      },
      "outputs": [],
      "source": [
        "# Step 1: (Optional) Remapping - skipped since not strictly needed for SVM\n",
        "\n",
        "# Step 2: Remove rows where the target labels (category) are NaN\n",
        "df = df.dropna(subset=['category'])\n",
        "\n",
        "# Step 3: TF-IDF vectorizer setup\n",
        "ngram_range = (1, 3)  # Trigram\n",
        "max_features = 1000  # Set max_features to 1000\n",
        "vectorizer = TfidfVectorizer(ngram_range=ngram_range, max_features=max_features)\n",
        "X = vectorizer.fit_transform(df['clean_comment'])\n",
        "y = df['category']\n",
        "\n",
        "# Step 4: Apply SMOTE to handle class imbalance\n",
        "smote = SMOTE(random_state=42)\n",
        "X_resampled, y_resampled = smote.fit_resample(X, y)\n",
        "\n",
        "# Step 5: Train-test split\n",
        "X_train, X_test, y_train, y_test = train_test_split(X_resampled, y_resampled, test_size=0.2, random_state=42, stratify=y_resampled)"
      ]
    },
    {
      "cell_type": "code",
      "execution_count": 9,
      "metadata": {
        "id": "BDX7m8UZp3y3"
      },
      "outputs": [],
      "source": [
        "# Function to log results in MLflow\n",
        "def log_mlflow(model_name, model, X_train, X_test, y_train, y_test):\n",
        "    with mlflow.start_run():\n",
        "        # Log model type\n",
        "        mlflow.set_tag(\"mlflow.runName\", f\"{model_name}_SMOTE_TFIDF_Trigrams\")\n",
        "        mlflow.set_tag(\"experiment_type\", \"algorithm_comparison\")\n",
        "\n",
        "        # Log algorithm name as a parameter\n",
        "        mlflow.log_param(\"algo_name\", model_name)\n",
        "\n",
        "        # Train model\n",
        "        model.fit(X_train, y_train)\n",
        "        y_pred = model.predict(X_test)\n",
        "\n",
        "        # Log accuracy\n",
        "        accuracy = accuracy_score(y_test, y_pred)\n",
        "        mlflow.log_metric(\"accuracy\", accuracy)\n",
        "\n",
        "        # Log classification report\n",
        "        classification_rep = classification_report(y_test, y_pred, output_dict=True)\n",
        "        for label, metrics in classification_rep.items():\n",
        "            if isinstance(metrics, dict):\n",
        "                for metric, value in metrics.items():\n",
        "                    mlflow.log_metric(f\"{label}_{metric}\", value)\n",
        "\n",
        "        # Log the model\n",
        "        mlflow.sklearn.log_model(model, f\"{model_name}_model\")"
      ]
    },
    {
      "cell_type": "code",
      "execution_count": 10,
      "metadata": {},
      "outputs": [],
      "source": [
        "# Step 6: Optuna objective function for SVM\n",
        "def objective_svm(trial):\n",
        "    C = trial.suggest_float('C', 1e-4, 10.0, log=True)\n",
        "    kernel = trial.suggest_categorical('kernel', ['linear', 'rbf', 'poly'])\n",
        "\n",
        "    model = SVC(C=C, kernel=kernel, random_state=42)\n",
        "    return accuracy_score(y_test, model.fit(X_train, y_train).predict(X_test))"
      ]
    },
    {
      "cell_type": "code",
      "execution_count": 11,
      "metadata": {},
      "outputs": [],
      "source": [
        "# Step 7: Run Optuna for SVM, log the best model only\n",
        "def run_optuna_experiment():\n",
        "    study = optuna.create_study(direction=\"maximize\")\n",
        "    study.optimize(objective_svm, n_trials=30)\n",
        "\n",
        "    # Get the best parameters and log only the best model\n",
        "    best_params = study.best_params\n",
        "    best_model = SVC(C=best_params['C'], kernel=best_params['kernel'], random_state=42)\n",
        "\n",
        "    # Log the best model with MLflow, passing the algo_name as \"SVM\"\n",
        "    log_mlflow(\"SVM\", best_model, X_train, X_test, y_train, y_test)"
      ]
    },
    {
      "cell_type": "code",
      "execution_count": 12,
      "metadata": {},
      "outputs": [
        {
          "name": "stderr",
          "output_type": "stream",
          "text": [
            "[I 2025-06-20 21:18:42,619] A new study created in memory with name: no-name-87e5466f-3b9c-432d-8e9f-e1fa98f9c6ce\n",
            "[I 2025-06-20 21:25:43,946] Trial 0 finished with value: 0.3993870217712957 and parameters: {'C': 0.0014893690781816883, 'kernel': 'rbf'}. Best is trial 0 with value: 0.3993870217712957.\n",
            "[I 2025-06-20 21:32:09,624] Trial 1 finished with value: 0.6536673007820757 and parameters: {'C': 0.04963068022595884, 'kernel': 'rbf'}. Best is trial 1 with value: 0.6536673007820757.\n",
            "[I 2025-06-20 21:38:04,394] Trial 2 finished with value: 0.4458888184316212 and parameters: {'C': 0.00021309214709520528, 'kernel': 'linear'}. Best is trial 1 with value: 0.6536673007820757.\n",
            "[I 2025-06-20 21:43:22,789] Trial 3 finished with value: 0.7141196364404988 and parameters: {'C': 0.07883573611285008, 'kernel': 'rbf'}. Best is trial 3 with value: 0.7141196364404988.\n",
            "[I 2025-06-20 21:49:53,793] Trial 4 finished with value: 0.7759458888184316 and parameters: {'C': 8.802236668245953, 'kernel': 'linear'}. Best is trial 4 with value: 0.7759458888184316.\n",
            "[I 2025-06-20 21:56:24,234] Trial 5 finished with value: 0.3993870217712957 and parameters: {'C': 0.00016303358793741594, 'kernel': 'rbf'}. Best is trial 4 with value: 0.7759458888184316.\n",
            "[I 2025-06-20 21:58:20,236] Trial 6 finished with value: 0.3628196998520397 and parameters: {'C': 0.00010219534106472062, 'kernel': 'poly'}. Best is trial 4 with value: 0.7759458888184316.\n",
            "[I 2025-06-20 21:59:32,823] Trial 7 finished with value: 0.761572606214331 and parameters: {'C': 0.5078038774123133, 'kernel': 'linear'}. Best is trial 4 with value: 0.7759458888184316.\n",
            "[I 2025-06-20 22:05:34,690] Trial 8 finished with value: 0.6953075459733672 and parameters: {'C': 3.5671494417285143, 'kernel': 'poly'}. Best is trial 4 with value: 0.7759458888184316.\n",
            "[I 2025-06-20 22:07:33,655] Trial 9 finished with value: 0.4383851194250687 and parameters: {'C': 0.028388514713274002, 'kernel': 'poly'}. Best is trial 4 with value: 0.7759458888184316.\n",
            "[I 2025-06-20 22:10:00,304] Trial 10 finished with value: 0.7767913760304376 and parameters: {'C': 9.957345766253658, 'kernel': 'linear'}. Best is trial 10 with value: 0.7767913760304376.\n",
            "[I 2025-06-20 22:12:21,866] Trial 11 finished with value: 0.7760515747199324 and parameters: {'C': 8.672599096163726, 'kernel': 'linear'}. Best is trial 10 with value: 0.7767913760304376.\n",
            "[I 2025-06-20 22:13:33,598] Trial 12 finished with value: 0.7653772986683577 and parameters: {'C': 1.0099938163456128, 'kernel': 'linear'}. Best is trial 10 with value: 0.7767913760304376.\n",
            "[I 2025-06-20 22:14:44,190] Trial 13 finished with value: 0.7630522088353414 and parameters: {'C': 0.5697100534662924, 'kernel': 'linear'}. Best is trial 10 with value: 0.7767913760304376.\n",
            "[I 2025-06-20 22:17:12,562] Trial 14 finished with value: 0.7762629465229338 and parameters: {'C': 8.984043051869822, 'kernel': 'linear'}. Best is trial 10 with value: 0.7767913760304376.\n",
            "[I 2025-06-20 22:18:28,962] Trial 15 finished with value: 0.7686535616148805 and parameters: {'C': 1.7536665917767758, 'kernel': 'linear'}. Best is trial 10 with value: 0.7767913760304376.\n",
            "[I 2025-06-20 22:19:46,406] Trial 16 finished with value: 0.7535404777002748 and parameters: {'C': 0.22977332433935918, 'kernel': 'linear'}. Best is trial 10 with value: 0.7767913760304376.\n",
            "[I 2025-06-20 22:21:41,310] Trial 17 finished with value: 0.6369689283449588 and parameters: {'C': 0.014899412415876475, 'kernel': 'linear'}. Best is trial 10 with value: 0.7767913760304376.\n",
            "[I 2025-06-20 22:23:37,708] Trial 18 finished with value: 0.5824350031705771 and parameters: {'C': 0.004693254429045567, 'kernel': 'linear'}. Best is trial 10 with value: 0.7767913760304376.\n",
            "[I 2025-06-20 22:25:21,152] Trial 19 finished with value: 0.6993236102303952 and parameters: {'C': 0.17343579539327086, 'kernel': 'poly'}. Best is trial 10 with value: 0.7767913760304376.\n",
            "[I 2025-06-20 22:26:50,974] Trial 20 finished with value: 0.7738321707884168 and parameters: {'C': 2.794495704242507, 'kernel': 'linear'}. Best is trial 10 with value: 0.7767913760304376.\n",
            "[I 2025-06-20 22:29:15,239] Trial 21 finished with value: 0.776580004227436 and parameters: {'C': 9.895463140443876, 'kernel': 'linear'}. Best is trial 10 with value: 0.7767913760304376.\n",
            "[I 2025-06-20 22:31:26,862] Trial 22 finished with value: 0.7759458888184316 and parameters: {'C': 8.319716189214361, 'kernel': 'linear'}. Best is trial 10 with value: 0.7767913760304376.\n",
            "[I 2025-06-20 22:33:02,859] Trial 23 finished with value: 0.774149228492919 and parameters: {'C': 3.117476167502401, 'kernel': 'linear'}. Best is trial 10 with value: 0.7767913760304376.\n",
            "[I 2025-06-20 22:34:13,332] Trial 24 finished with value: 0.7660114140773621 and parameters: {'C': 1.1386346538226786, 'kernel': 'linear'}. Best is trial 10 with value: 0.7767913760304376.\n",
            "[I 2025-06-20 22:35:53,565] Trial 25 finished with value: 0.7736207989854154 and parameters: {'C': 3.647680595873816, 'kernel': 'linear'}. Best is trial 10 with value: 0.7767913760304376.\n",
            "[I 2025-06-20 22:37:03,478] Trial 26 finished with value: 0.7597759458888185 and parameters: {'C': 0.45791655183224883, 'kernel': 'linear'}. Best is trial 10 with value: 0.7767913760304376.\n",
            "[I 2025-06-20 22:39:23,480] Trial 27 finished with value: 0.7763686324244345 and parameters: {'C': 9.191583272324536, 'kernel': 'linear'}. Best is trial 10 with value: 0.7767913760304376.\n",
            "[I 2025-06-20 22:43:17,092] Trial 28 finished with value: 0.8268864933417882 and parameters: {'C': 1.7441812114638127, 'kernel': 'rbf'}. Best is trial 28 with value: 0.8268864933417882.\n",
            "[I 2025-06-20 22:47:18,146] Trial 29 finished with value: 0.8272035510462904 and parameters: {'C': 1.865474709969268, 'kernel': 'rbf'}. Best is trial 29 with value: 0.8272035510462904.\n",
            "2025/06/20 22:51:25 WARNING mlflow.models.model: Model logged without a signature and input example. Please set `input_example` parameter when logging the model to auto infer the model signature.\n",
            "2025/06/20 22:51:30 INFO mlflow.tracking._tracking_service.client: 🏃 View run SVM_SMOTE_TFIDF_Trigrams at: http://ec2-13-127-25-124.ap-south-1.compute.amazonaws.com:5000/#/experiments/547399241317235994/runs/eaab2a6ea3b7434cbadbf8b431c4bede.\n",
            "2025/06/20 22:51:30 INFO mlflow.tracking._tracking_service.client: 🧪 View experiment at: http://ec2-13-127-25-124.ap-south-1.compute.amazonaws.com:5000/#/experiments/547399241317235994.\n"
          ]
        }
      ],
      "source": [
        "# Run the experiment for SVM\n",
        "run_optuna_experiment()"
      ]
    }
  ],
  "metadata": {
    "colab": {
      "provenance": []
    },
    "kernelspec": {
      "display_name": "yt-insights-ch-plugin",
      "language": "python",
      "name": "python3"
    },
    "language_info": {
      "codemirror_mode": {
        "name": "ipython",
        "version": 3
      },
      "file_extension": ".py",
      "mimetype": "text/x-python",
      "name": "python",
      "nbconvert_exporter": "python",
      "pygments_lexer": "ipython3",
      "version": "3.11.13"
    }
  },
  "nbformat": 4,
  "nbformat_minor": 0
}
