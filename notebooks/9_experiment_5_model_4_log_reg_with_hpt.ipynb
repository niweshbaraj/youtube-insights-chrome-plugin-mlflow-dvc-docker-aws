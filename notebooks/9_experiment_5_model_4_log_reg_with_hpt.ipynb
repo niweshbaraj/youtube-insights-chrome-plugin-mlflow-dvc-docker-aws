{
  "cells": [
    {
      "cell_type": "code",
      "execution_count": 1,
      "metadata": {
        "id": "r-7ysUuxyuVs"
      },
      "outputs": [],
      "source": [
        "import mlflow"
      ]
    },
    {
      "cell_type": "code",
      "execution_count": 2,
      "metadata": {},
      "outputs": [],
      "source": [
        "# Set up the MLflow tracking server\n",
        "mlflow.set_tracking_uri(\"http://ec2-13-127-25-124.ap-south-1.compute.amazonaws.com:5000/\")"
      ]
    },
    {
      "cell_type": "code",
      "execution_count": 3,
      "metadata": {
        "colab": {
          "base_uri": "https://localhost:8080/"
        },
        "id": "PKDf830by4j8",
        "outputId": "882d3a38-037e-442a-e9d4-24ff5bd736c7"
      },
      "outputs": [
        {
          "data": {
            "text/plain": [
              "<Experiment: artifact_location='s3://youtube-insights-chrome-plugin-mlflow-bucket/547399241317235994', creation_time=1750433363378, experiment_id='547399241317235994', last_update_time=1750433363378, lifecycle_stage='active', name='Exp 5 - ML Algos with HP Tuning', tags={}>"
            ]
          },
          "execution_count": 3,
          "metadata": {},
          "output_type": "execute_result"
        }
      ],
      "source": [
        "# Set or create an experiment\n",
        "mlflow.set_experiment(\"Exp 5 - ML Algos with HP Tuning\")"
      ]
    },
    {
      "cell_type": "code",
      "execution_count": 4,
      "metadata": {
        "id": "5zTFu8-py63X"
      },
      "outputs": [
        {
          "name": "stderr",
          "output_type": "stream",
          "text": [
            "c:\\ProgramData\\anaconda3\\envs\\yt-insights-ch-plugin\\Lib\\site-packages\\tqdm\\auto.py:21: TqdmWarning: IProgress not found. Please update jupyter and ipywidgets. See https://ipywidgets.readthedocs.io/en/stable/user_install.html\n",
            "  from .autonotebook import tqdm as notebook_tqdm\n"
          ]
        }
      ],
      "source": [
        "import pandas as pd\n",
        "from sklearn.feature_extraction.text import TfidfVectorizer\n",
        "from sklearn.model_selection import train_test_split\n",
        "from sklearn.linear_model import LogisticRegression\n",
        "from sklearn.metrics import accuracy_score, classification_report\n",
        "from imblearn.over_sampling import SMOTE\n",
        "import mlflow\n",
        "import mlflow.sklearn\n",
        "import optuna"
      ]
    },
    {
      "cell_type": "code",
      "execution_count": 5,
      "metadata": {
        "colab": {
          "base_uri": "https://localhost:8080/"
        },
        "id": "ApulXm9Yy-m7",
        "outputId": "ea6ec006-f4d6-4aad-9687-f9edef00a686"
      },
      "outputs": [
        {
          "data": {
            "text/plain": [
              "(36662, 2)"
            ]
          },
          "execution_count": 5,
          "metadata": {},
          "output_type": "execute_result"
        }
      ],
      "source": [
        "df = pd.read_csv('reddit_preprocessing.csv').dropna(subset=['clean_comment'])\n",
        "df.shape"
      ]
    },
    {
      "cell_type": "code",
      "execution_count": 6,
      "metadata": {
        "colab": {
          "base_uri": "https://localhost:8080/"
        },
        "id": "frq0yf4CzXXv",
        "outputId": "faa54a1b-733a-4d6d-b3bd-ef35cdd6ad61"
      },
      "outputs": [],
      "source": [
        "# Step 1: (Optional) Remapping - skipped since not strictly needed for Logistic Regression\n",
        "\n",
        "# Step 2: Remove rows where the target labels (category) are NaN\n",
        "df = df.dropna(subset=['category'])\n",
        "\n",
        "# Step 3: TF-IDF vectorizer setup\n",
        "ngram_range = (1, 3)  # Trigram\n",
        "max_features = 1000  # Set max_features to 1000\n",
        "vectorizer = TfidfVectorizer(ngram_range=ngram_range, max_features=max_features)\n",
        "X = vectorizer.fit_transform(df['clean_comment'])\n",
        "y = df['category']\n",
        "\n",
        "# Step 4: Apply SMOTE to handle class imbalance\n",
        "smote = SMOTE(random_state=42)\n",
        "X_resampled, y_resampled = smote.fit_resample(X, y)\n",
        "\n",
        "# Step 5: Train-test split\n",
        "X_train, X_test, y_train, y_test = train_test_split(X_resampled, y_resampled, test_size=0.2, random_state=42, stratify=y_resampled)"
      ]
    },
    {
      "cell_type": "code",
      "execution_count": 7,
      "metadata": {
        "id": "bK55busCz2z5"
      },
      "outputs": [],
      "source": [
        "# Function to log results in MLflow\n",
        "def log_mlflow(model_name, model, X_train, X_test, y_train, y_test):\n",
        "    with mlflow.start_run():\n",
        "        # Log model type\n",
        "        mlflow.set_tag(\"mlflow.runName\", f\"{model_name}_SMOTE_TFIDF_Trigrams\")\n",
        "        mlflow.set_tag(\"experiment_type\", \"algorithm_comparison\")\n",
        "\n",
        "        # Log algorithm name as a parameter\n",
        "        mlflow.log_param(\"algo_name\", model_name)\n",
        "\n",
        "        # Train model\n",
        "        model.fit(X_train, y_train)\n",
        "        y_pred = model.predict(X_test)\n",
        "\n",
        "        # Log accuracy\n",
        "        accuracy = accuracy_score(y_test, y_pred)\n",
        "        mlflow.log_metric(\"accuracy\", accuracy)\n",
        "\n",
        "        # Log classification report\n",
        "        classification_rep = classification_report(y_test, y_pred, output_dict=True)\n",
        "        for label, metrics in classification_rep.items():\n",
        "            if isinstance(metrics, dict):\n",
        "                for metric, value in metrics.items():\n",
        "                    mlflow.log_metric(f\"{label}_{metric}\", value)\n",
        "\n",
        "        # Log the model\n",
        "        mlflow.sklearn.log_model(model, f\"{model_name}_model\")"
      ]
    },
    {
      "cell_type": "code",
      "execution_count": 8,
      "metadata": {},
      "outputs": [],
      "source": [
        "# Step 6: Optuna objective function for Logistic Regression\n",
        "def objective_logreg(trial):\n",
        "    C = trial.suggest_float('C', 1e-4, 10.0, log=True)\n",
        "    penalty = trial.suggest_categorical('penalty', ['l1', 'l2'])\n",
        "\n",
        "    # LogisticRegression model setup with balanced class weight\n",
        "    model = LogisticRegression(C=C, penalty=penalty, solver='liblinear', random_state=42)\n",
        "    return accuracy_score(y_test, model.fit(X_train, y_train).predict(X_test))"
      ]
    },
    {
      "cell_type": "code",
      "execution_count": 9,
      "metadata": {},
      "outputs": [],
      "source": [
        "# Step 7: Run Optuna for Logistic Regression, log the best model only\n",
        "def run_optuna_experiment():\n",
        "    study = optuna.create_study(direction=\"maximize\")\n",
        "    study.optimize(objective_logreg, n_trials=30)\n",
        "\n",
        "    # Get the best parameters and log only the best model\n",
        "    best_params = study.best_params\n",
        "    best_model = LogisticRegression(C=best_params['C'], penalty=best_params['penalty'], solver='liblinear', random_state=42)\n",
        "\n",
        "    # Log the best model with MLflow, passing the algo_name as \"LogisticRegression\"\n",
        "    log_mlflow(\"LogisticRegression\", best_model, X_train, X_test, y_train, y_test)"
      ]
    },
    {
      "cell_type": "code",
      "execution_count": 10,
      "metadata": {},
      "outputs": [
        {
          "name": "stderr",
          "output_type": "stream",
          "text": [
            "[I 2025-06-20 21:22:53,995] A new study created in memory with name: no-name-ea3f0553-6db4-4c59-8315-b9ea83fa41b2\n",
            "[I 2025-06-20 21:22:54,388] Trial 0 finished with value: 0.7787994081589515 and parameters: {'C': 1.4297769566595722, 'penalty': 'l1'}. Best is trial 0 with value: 0.7787994081589515.\n",
            "[I 2025-06-20 21:22:54,652] Trial 1 finished with value: 0.6984781230183893 and parameters: {'C': 0.027800061445581874, 'penalty': 'l2'}. Best is trial 0 with value: 0.7787994081589515.\n",
            "[I 2025-06-20 21:22:55,147] Trial 2 finished with value: 0.7673853307968717 and parameters: {'C': 1.5548180098190376, 'penalty': 'l2'}. Best is trial 0 with value: 0.7787994081589515.\n",
            "[I 2025-06-20 21:22:55,279] Trial 3 finished with value: 0.3333333333333333 and parameters: {'C': 0.0030141151682067206, 'penalty': 'l1'}. Best is trial 0 with value: 0.7787994081589515.\n",
            "[I 2025-06-20 21:22:55,517] Trial 4 finished with value: 0.7454026632847178 and parameters: {'C': 0.11501470789217681, 'penalty': 'l1'}. Best is trial 0 with value: 0.7787994081589515.\n",
            "[I 2025-06-20 21:22:55,849] Trial 5 finished with value: 0.7499471570492496 and parameters: {'C': 0.2572237727863221, 'penalty': 'l2'}. Best is trial 0 with value: 0.7787994081589515.\n",
            "[I 2025-06-20 21:22:56,036] Trial 6 finished with value: 0.6480659480025365 and parameters: {'C': 0.0012871675642362767, 'penalty': 'l2'}. Best is trial 0 with value: 0.7787994081589515.\n",
            "[I 2025-06-20 21:22:56,534] Trial 7 finished with value: 0.7655886704713591 and parameters: {'C': 0.9093790656406285, 'penalty': 'l2'}. Best is trial 0 with value: 0.7787994081589515.\n",
            "[I 2025-06-20 21:22:56,711] Trial 8 finished with value: 0.6436271401395054 and parameters: {'C': 0.030814189712504124, 'penalty': 'l1'}. Best is trial 0 with value: 0.7787994081589515.\n",
            "[I 2025-06-20 21:22:56,816] Trial 9 finished with value: 0.3333333333333333 and parameters: {'C': 0.0005993388353442685, 'penalty': 'l1'}. Best is trial 0 with value: 0.7787994081589515.\n",
            "[I 2025-06-20 21:22:57,276] Trial 10 finished with value: 0.7807017543859649 and parameters: {'C': 9.140009770025987, 'penalty': 'l1'}. Best is trial 10 with value: 0.7807017543859649.\n",
            "[I 2025-06-20 21:22:57,743] Trial 11 finished with value: 0.7804903825829634 and parameters: {'C': 8.13693782221799, 'penalty': 'l1'}. Best is trial 10 with value: 0.7807017543859649.\n",
            "[I 2025-06-20 21:22:58,190] Trial 12 finished with value: 0.7811244979919679 and parameters: {'C': 6.007561413129165, 'penalty': 'l1'}. Best is trial 12 with value: 0.7811244979919679.\n",
            "[I 2025-06-20 21:22:58,667] Trial 13 finished with value: 0.7807017543859649 and parameters: {'C': 9.16347629403151, 'penalty': 'l1'}. Best is trial 12 with value: 0.7811244979919679.\n",
            "[I 2025-06-20 21:22:58,776] Trial 14 finished with value: 0.3333333333333333 and parameters: {'C': 0.00016224066454447806, 'penalty': 'l1'}. Best is trial 12 with value: 0.7811244979919679.\n",
            "[I 2025-06-20 21:22:59,258] Trial 15 finished with value: 0.7793278376664553 and parameters: {'C': 2.7309465185570865, 'penalty': 'l1'}. Best is trial 12 with value: 0.7811244979919679.\n",
            "[I 2025-06-20 21:22:59,536] Trial 16 finished with value: 0.761995349820334 and parameters: {'C': 0.18480511993916632, 'penalty': 'l1'}. Best is trial 12 with value: 0.7811244979919679.\n",
            "[I 2025-06-20 21:23:00,013] Trial 17 finished with value: 0.7805960684844642 and parameters: {'C': 9.884331737107827, 'penalty': 'l1'}. Best is trial 12 with value: 0.7811244979919679.\n",
            "[I 2025-06-20 21:23:00,150] Trial 18 finished with value: 0.4796026210103572 and parameters: {'C': 0.008968658438777413, 'penalty': 'l1'}. Best is trial 12 with value: 0.7811244979919679.\n",
            "[I 2025-06-20 21:23:00,473] Trial 19 finished with value: 0.7768970619319383 and parameters: {'C': 0.39965428034277883, 'penalty': 'l1'}. Best is trial 12 with value: 0.7811244979919679.\n",
            "[I 2025-06-20 21:23:00,884] Trial 20 finished with value: 0.7796448953709575 and parameters: {'C': 3.170807931955539, 'penalty': 'l1'}. Best is trial 12 with value: 0.7811244979919679.\n",
            "[I 2025-06-20 21:23:01,390] Trial 21 finished with value: 0.7805960684844642 and parameters: {'C': 9.780081981333849, 'penalty': 'l1'}. Best is trial 12 with value: 0.7811244979919679.\n",
            "[I 2025-06-20 21:23:01,847] Trial 22 finished with value: 0.7790107799619531 and parameters: {'C': 3.4990649065420225, 'penalty': 'l1'}. Best is trial 12 with value: 0.7811244979919679.\n",
            "[I 2025-06-20 21:23:02,218] Trial 23 finished with value: 0.7801733248784612 and parameters: {'C': 0.7230388526129807, 'penalty': 'l1'}. Best is trial 12 with value: 0.7811244979919679.\n",
            "[I 2025-06-20 21:23:02,416] Trial 24 finished with value: 0.7345170154301416 and parameters: {'C': 0.08727458679262264, 'penalty': 'l1'}. Best is trial 12 with value: 0.7811244979919679.\n",
            "[I 2025-06-20 21:23:02,925] Trial 25 finished with value: 0.7793278376664553 and parameters: {'C': 4.259674743757578, 'penalty': 'l1'}. Best is trial 12 with value: 0.7811244979919679.\n",
            "[I 2025-06-20 21:23:03,285] Trial 26 finished with value: 0.7635806383428451 and parameters: {'C': 0.6292094637812178, 'penalty': 'l2'}. Best is trial 12 with value: 0.7811244979919679.\n",
            "[I 2025-06-20 21:23:03,684] Trial 27 finished with value: 0.7786937222574508 and parameters: {'C': 1.5895639830156552, 'penalty': 'l1'}. Best is trial 12 with value: 0.7811244979919679.\n",
            "[I 2025-06-20 21:23:04,048] Trial 28 finished with value: 0.7791164658634538 and parameters: {'C': 3.945822569898777, 'penalty': 'l1'}. Best is trial 12 with value: 0.7811244979919679.\n",
            "[I 2025-06-20 21:23:04,459] Trial 29 finished with value: 0.7787994081589515 and parameters: {'C': 1.5657274613591259, 'penalty': 'l1'}. Best is trial 12 with value: 0.7811244979919679.\n",
            "2025/06/20 21:23:18 WARNING mlflow.models.model: Model logged without a signature and input example. Please set `input_example` parameter when logging the model to auto infer the model signature.\n",
            "2025/06/20 21:23:21 INFO mlflow.tracking._tracking_service.client: 🏃 View run LogisticRegression_SMOTE_TFIDF_Trigrams at: http://ec2-13-127-25-124.ap-south-1.compute.amazonaws.com:5000/#/experiments/547399241317235994/runs/73563091130041d0bff339588f2edb64.\n",
            "2025/06/20 21:23:21 INFO mlflow.tracking._tracking_service.client: 🧪 View experiment at: http://ec2-13-127-25-124.ap-south-1.compute.amazonaws.com:5000/#/experiments/547399241317235994.\n"
          ]
        }
      ],
      "source": [
        "# Run the experiment for Logistic Regression\n",
        "run_optuna_experiment()"
      ]
    }
  ],
  "metadata": {
    "colab": {
      "provenance": []
    },
    "kernelspec": {
      "display_name": "yt-insights-ch-plugin",
      "language": "python",
      "name": "python3"
    },
    "language_info": {
      "codemirror_mode": {
        "name": "ipython",
        "version": 3
      },
      "file_extension": ".py",
      "mimetype": "text/x-python",
      "name": "python",
      "nbconvert_exporter": "python",
      "pygments_lexer": "ipython3",
      "version": "3.11.13"
    }
  },
  "nbformat": 4,
  "nbformat_minor": 0
}
